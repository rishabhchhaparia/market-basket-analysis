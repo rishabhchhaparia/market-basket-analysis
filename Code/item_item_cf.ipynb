{
  "cells": [
    {
      "cell_type": "code",
      "execution_count": 1,
      "id": "389f2e89-1731-456e-bc1d-2794def17233",
      "metadata": {
        "execution": {
          "iopub.execute_input": "2022-12-06T14:05:25.003302Z",
          "iopub.status.busy": "2022-12-06T14:05:25.002870Z",
          "iopub.status.idle": "2022-12-06T14:05:25.008305Z",
          "shell.execute_reply": "2022-12-06T14:05:25.007056Z",
          "shell.execute_reply.started": "2022-12-06T14:05:25.003263Z"
        },
        "gather": {
          "logged": 1670515789151
        },
        "trusted": true
      },
      "outputs": [],
      "source": [
        "#Importing required lib / module\n",
        "\n",
        "import pandas as pd\n",
        "import numpy as np\n",
        "from sklearn.metrics.pairwise import cosine_similarity\n",
        "import matplotlib.pyplot as plt\n",
        "import seaborn as sns\n",
        "import squarify "
      ]
    },
    {
      "cell_type": "code",
      "execution_count": 63,
      "id": "c3cc322b-3414-47c8-9b30-56b304426eed",
      "metadata": {
        "gather": {
          "logged": 1670515789578
        },
        "jupyter": {
          "outputs_hidden": false,
          "source_hidden": false
        },
        "nteract": {
          "transient": {
            "deleting": false
          }
        }
      },
      "outputs": [],
      "source": [
        "#pip install squarify"
      ]
    },
    {
      "cell_type": "markdown",
      "id": "48b81f26-7e10-4db3-a47d-4451d741d2fc",
      "metadata": {
        "nteract": {
          "transient": {
            "deleting": false
          }
        }
      },
      "source": [
        "# Creating DFs"
      ]
    },
    {
      "cell_type": "code",
      "execution_count": 2,
      "id": "7b391e52-fee1-4fdd-b8dc-adb1c58be4b6",
      "metadata": {
        "execution": {
          "iopub.execute_input": "2022-12-06T14:05:25.011627Z",
          "iopub.status.busy": "2022-12-06T14:05:25.010555Z",
          "iopub.status.idle": "2022-12-06T14:05:25.027533Z",
          "shell.execute_reply": "2022-12-06T14:05:25.026345Z",
          "shell.execute_reply.started": "2022-12-06T14:05:25.011563Z"
        },
        "gather": {
          "logged": 1670515808749
        },
        "trusted": true
      },
      "outputs": [],
      "source": [
        "# Loding files in separate dfs\n",
        "\n",
        "aisles=pd.read_csv('../input/market-basket-analysis/aisles.csv')\n",
        "departments=pd.read_csv('../input/market-basket-analysis/departments.csv')\n",
        "orders=pd.read_csv('../input/market-basket-analysis/orders.csv')\n",
        "products=pd.read_csv('../input/market-basket-analysis/products.csv')\n",
        "sample_submission=pd.read_csv('../input/market-basket-analysis/sample_submission.csv')\n",
        "order_products__prior=pd.read_csv('../input/market-basket-analysis/order_products__prior.csv')\n",
        "order_products__train=pd.read_csv('../input/market-basket-analysis/order_products__train.csv')"
      ]
    },
    {
      "cell_type": "markdown",
      "id": "7af1deaf-6dec-4001-8442-12db19451155",
      "metadata": {
        "nteract": {
          "transient": {
            "deleting": false
          }
        }
      },
      "source": [
        "# Cleaning DFs"
      ]
    },
    {
      "cell_type": "code",
      "execution_count": 65,
      "id": "05cc528a-b073-4bca-a0d2-508223201817",
      "metadata": {
        "execution": {
          "iopub.execute_input": "2022-12-06T14:05:25.030728Z",
          "iopub.status.busy": "2022-12-06T14:05:25.029934Z",
          "iopub.status.idle": "2022-12-06T14:05:25.045637Z",
          "shell.execute_reply": "2022-12-06T14:05:25.044628Z",
          "shell.execute_reply.started": "2022-12-06T14:05:25.030683Z"
        },
        "gather": {
          "logged": 1670515809101
        },
        "trusted": true
      },
      "outputs": [],
      "source": [
        "# filling the na cells with -1\n",
        "\n",
        "orders['days_since_prior_order']=orders['days_since_prior_order'].fillna(-1)"
      ]
    },
    {
      "cell_type": "code",
      "execution_count": 3,
      "id": "84426fdb-eb5b-4184-82ca-4f7baa0c1b87",
      "metadata": {
        "execution": {
          "iopub.execute_input": "2022-12-06T14:05:25.047892Z",
          "iopub.status.busy": "2022-12-06T14:05:25.047087Z",
          "iopub.status.idle": "2022-12-06T14:05:28.375095Z",
          "shell.execute_reply": "2022-12-06T14:05:28.374099Z",
          "shell.execute_reply.started": "2022-12-06T14:05:25.047856Z"
        },
        "gather": {
          "logged": 1670515809353
        },
        "trusted": true
      },
      "outputs": [
        {
          "name": "stdout",
          "output_type": "stream",
          "text": [
            "order_id                       0\n",
            "user_id                        0\n",
            "eval_set                       0\n",
            "order_number                   0\n",
            "order_dow                      0\n",
            "order_hour_of_day              0\n",
            "days_since_prior_order    206209\n",
            "dtype: int64\n",
            "aisle_id    0\n",
            "aisle       0\n",
            "dtype: int64\n",
            "department_id    0\n",
            "department       0\n",
            "dtype: int64\n",
            "product_id       0\n",
            "product_name     0\n",
            "aisle_id         0\n",
            "department_id    0\n",
            "dtype: int64\n",
            "order_id    0\n",
            "products    0\n",
            "dtype: int64\n",
            "order_id             0\n",
            "product_id           0\n",
            "add_to_cart_order    0\n",
            "reordered            0\n",
            "dtype: int64\n",
            "order_id             0\n",
            "product_id           0\n",
            "add_to_cart_order    0\n",
            "reordered            0\n",
            "dtype: int64\n"
          ]
        }
      ],
      "source": [
        "# checking if the dfs have any null values\n",
        "\n",
        "print(orders.isna().sum())\n",
        "print(aisles.isna().sum())\n",
        "print(departments.isna().sum())\n",
        "print(products.isna().sum())\n",
        "print(sample_submission.isna().sum())\n",
        "print(order_products__prior.isna().sum())\n",
        "print(order_products__train.isna().sum())"
      ]
    },
    {
      "cell_type": "markdown",
      "id": "54b60705-52cb-4638-b760-6d77da332ecc",
      "metadata": {
        "nteract": {
          "transient": {
            "deleting": false
          }
        }
      },
      "source": [
        "# Merging DFs"
      ]
    },
    {
      "cell_type": "code",
      "execution_count": 67,
      "id": "c4a793ae-943f-42a1-9278-e5a7e2226e05",
      "metadata": {
        "execution": {
          "iopub.execute_input": "2022-12-06T14:05:49.276834Z",
          "iopub.status.busy": "2022-12-06T14:05:49.276439Z",
          "iopub.status.idle": "2022-12-06T14:05:52.985900Z",
          "shell.execute_reply": "2022-12-06T14:05:52.984984Z",
          "shell.execute_reply.started": "2022-12-06T14:05:49.276803Z"
        },
        "gather": {
          "logged": 1670515812669
        },
        "trusted": true
      },
      "outputs": [],
      "source": [
        "#Merging  train order and prior orders first (to check)\n",
        "\n",
        "Dataset_orders = pd.concat([order_products__prior, order_products__train]).sort_values(by=['order_id'])"
      ]
    },
    {
      "cell_type": "code",
      "execution_count": 68,
      "id": "5f1a4415-98b8-4ae7-8008-53df30c6d2bb",
      "metadata": {
        "execution": {
          "iopub.execute_input": "2022-12-06T14:05:53.032986Z",
          "iopub.status.busy": "2022-12-06T14:05:53.031888Z",
          "iopub.status.idle": "2022-12-06T14:06:13.298992Z",
          "shell.execute_reply": "2022-12-06T14:06:13.296390Z",
          "shell.execute_reply.started": "2022-12-06T14:05:53.032928Z"
        },
        "gather": {
          "logged": 1670515903937
        },
        "trusted": true
      },
      "outputs": [],
      "source": [
        "#Concatenating with other DFs\n",
        "\n",
        "Dataset_orders = pd.merge(left = Dataset_orders, right = products,\n",
        "                             left_on='product_id', right_on='product_id').sort_values(by=['order_id']).reset_index(drop=True)\n",
        "Dataset_orders = pd.merge(left = Dataset_orders, right = aisles,\n",
        "                             left_on='aisle_id', right_on='aisle_id').sort_values(by=['order_id']).reset_index(drop=True)\n",
        "Dataset_orders = pd.merge(left = Dataset_orders, right = departments,\n",
        "                             left_on='department_id', right_on='department_id').sort_values(by=['order_id']).reset_index(drop=True)\n",
        "Dataset_orders = pd.merge(left = Dataset_orders, right = orders,\n",
        "                             left_on='order_id', right_on='order_id').sort_values(by=['order_id']).reset_index(drop=True)"
      ]
    },
    {
      "cell_type": "code",
      "execution_count": 69,
      "id": "6973fc48-49fd-4ccc-8317-943af4b4e37f",
      "metadata": {
        "gather": {
          "logged": 1670515906770
        },
        "jupyter": {
          "outputs_hidden": false,
          "source_hidden": false
        },
        "nteract": {
          "transient": {
            "deleting": false
          }
        }
      },
      "outputs": [],
      "source": [
        "# Arranging columns of DF as per our need\n",
        "\n",
        "Columns = ['user_id','order_id','add_to_cart_order','product_id','product_name','reordered','aisle_id','aisle','department_id',\n",
        " 'department','eval_set','order_number','order_dow','order_hour_of_day',\n",
        " 'days_since_prior_order']\n",
        "\n",
        "Dataset_orders = Dataset_orders[Columns]"
      ]
    },
    {
      "cell_type": "code",
      "execution_count": null,
      "id": "313e1d89-8279-4450-9f70-487123e1ac6b",
      "metadata": {
        "gather": {
          "logged": 1670516178989
        },
        "jupyter": {
          "outputs_hidden": false,
          "source_hidden": false
        },
        "nteract": {
          "transient": {
            "deleting": false
          }
        }
      },
      "outputs": [],
      "source": [
        "Dataset_orders.shape\n"
      ]
    },
    {
      "cell_type": "code",
      "execution_count": null,
      "id": "995eeb51-61ca-4da2-8bbf-4e6b4b741047",
      "metadata": {
        "gather": {
          "logged": 1670516191823
        },
        "jupyter": {
          "outputs_hidden": false,
          "source_hidden": false
        },
        "nteract": {
          "transient": {
            "deleting": false
          }
        }
      },
      "outputs": [],
      "source": [
        "Dataset_orders.head()"
      ]
    },
    {
      "cell_type": "code",
      "execution_count": 37,
      "id": "f622bc4e-8dc2-470b-9cda-620b26fd8acf",
      "metadata": {
        "gather": {
          "logged": 1670480294676
        },
        "jupyter": {
          "outputs_hidden": false,
          "source_hidden": false
        },
        "nteract": {
          "transient": {
            "deleting": false
          }
        }
      },
      "outputs": [],
      "source": [
        "#import pickle\n",
        "\n",
        "#Dataset_orders.to_csv(\"Final_dataset.csv\",index=False)\n",
        "#pickle.dump(Dataset_orders,open(\"F_D.pkl\",\"wb\"))"
      ]
    },
    {
      "cell_type": "code",
      "execution_count": 15,
      "id": "edd42fba-0def-4979-99ea-a48ca5cf526d",
      "metadata": {
        "execution": {
          "iopub.execute_input": "2022-12-06T14:08:00.082389Z",
          "iopub.status.busy": "2022-12-06T14:08:00.081950Z",
          "iopub.status.idle": "2022-12-06T14:10:44.337806Z",
          "shell.execute_reply": "2022-12-06T14:10:44.336840Z",
          "shell.execute_reply.started": "2022-12-06T14:08:00.082344Z"
        },
        "gather": {
          "logged": 1670479300199
        },
        "trusted": true
      },
      "outputs": [],
      "source": [
        "#Saving merged file for further use (not needed anymore)\n",
        "\n",
        "#Dataset_orders.to_csv(\"Final_dataset.csv\",index=False)\n",
        "#Merged and cleaned dataset\n",
        "#F_D=pd.read_csv('Final_dataset.csv')"
      ]
    },
    {
      "cell_type": "markdown",
      "id": "78202500-feea-4c0a-a634-91a0dbc624f4",
      "metadata": {
        "nteract": {
          "transient": {
            "deleting": false
          }
        }
      },
      "source": [
        "# EDA"
      ]
    },
    {
      "cell_type": "markdown",
      "id": "8a24c15d-b3b7-490e-ad32-bbea23a0c1c4",
      "metadata": {
        "nteract": {
          "transient": {
            "deleting": false
          }
        }
      },
      "source": [
        "### 1. Number of orders and their frequency"
      ]
    },
    {
      "cell_type": "code",
      "execution_count": 18,
      "id": "cf0e82b6-1b50-47bd-9aa7-3840a85b87f1",
      "metadata": {
        "gather": {
          "logged": 1670479357739
        },
        "jupyter": {
          "outputs_hidden": false,
          "source_hidden": false
        },
        "nteract": {
          "transient": {
            "deleting": false
          }
        }
      },
      "outputs": [
        {
          "data": {
            "text/plain": [
              "<matplotlib.legend.Legend at 0x7f920120d8b0>"
            ]
          },
          "execution_count": 18,
          "metadata": {},
          "output_type": "execute_result"
        },
        {
          "data": {
            "image/png": "[encoded data removed]",
            "text/plain": [
              "<Figure size 640x480 with 1 Axes>"
            ]
          },
          "metadata": {},
          "output_type": "display_data"
        }
      ],
      "source": [
        "Count_f_orders = orders.groupby(['user_id'])['order_id'].agg(lambda group: len(group.unique()))\\\n",
        "                .reset_index(name='order_count')\\\n",
        "                .set_index('user_id')\n",
        "\n",
        "# ED1\n",
        "\n",
        "plt = Count_f_orders.plot.hist(bins = 115,color='violet')\n",
        "plt.set_xlabel(\"No. of Order\")\n",
        "plt.set_title('Order Frequncy Based on Amount')\n",
        "plt.legend()"
      ]
    },
    {
      "cell_type": "markdown",
      "id": "7dd14b44-3267-464f-856c-24e38019d9f3",
      "metadata": {
        "nteract": {
          "transient": {
            "deleting": false
          }
        }
      },
      "source": [
        "### 2. Department Tree Map along with order rate and percentage reordered"
      ]
    },
    {
      "cell_type": "code",
      "execution_count": 24,
      "id": "1b6b218e-94cd-4365-8493-a880497e64a5",
      "metadata": {
        "gather": {
          "logged": 1670479656663
        },
        "jupyter": {
          "outputs_hidden": false,
          "source_hidden": false
        },
        "nteract": {
          "transient": {
            "deleting": false
          }
        }
      },
      "outputs": [
        {
          "data": {
            "image/png": "[encoded data removed]",
            "text/plain": [
              "<Figure size 840x560 with 1 Axes>"
            ]
          },
          "metadata": {},
          "output_type": "display_data"
        }
      ],
      "source": [
        "# Prepare Data\n",
        "fg = Dataset_orders.groupby(['department']).size().reset_index(name='order_count')\n",
        "DPR = Dataset_orders[Dataset_orders['reordered']==1].groupby(['department']).size().reset_index(name='reorder_rate')\n",
        "fg['reorder_rate'] = DPR['reorder_rate']/fg['order_count']\n",
        "\n",
        "labels = fg.apply(lambda x: str(x[0]) + \"\\n (\" + str(x[1]) + \")\" + \"\\n reorder : \"+ str(round(x[2],2)) , axis=1)\n",
        "sizes = fg['order_count'].values.tolist()\n",
        "colors = [plt.cm.Accent_r(i/float(len(labels))) for i in range(len(labels))]\n",
        "\n",
        "# Draw Plot\n",
        "plt.figure(figsize=(12,8), dpi= 70)\n",
        "squarify.plot(sizes=sizes, label=labels, color=colors, alpha=.8, text_kwargs={'fontsize':10})\n",
        "\n",
        "# Decorate\n",
        "plt.title('Department Map', fontsize = 10)\n",
        "plt.axis('off')\n",
        "plt.show()\n"
      ]
    },
    {
      "cell_type": "markdown",
      "id": "53158240-9308-4bc5-bc6e-31362d4959a0",
      "metadata": {
        "nteract": {
          "transient": {
            "deleting": false
          }
        }
      },
      "source": [
        "### 3. Most checkouts in a day"
      ]
    },
    {
      "cell_type": "code",
      "execution_count": 26,
      "id": "97963bbf-c1a8-4aef-8f20-5c6a4716714a",
      "metadata": {
        "gather": {
          "logged": 1670479685129
        },
        "jupyter": {
          "outputs_hidden": false,
          "source_hidden": false
        },
        "nteract": {
          "transient": {
            "deleting": false
          }
        }
      },
      "outputs": [
        {
          "data": {
            "text/plain": [
              "<matplotlib.legend.Legend at 0x7f91fdab64c0>"
            ]
          },
          "execution_count": 26,
          "metadata": {},
          "output_type": "execute_result"
        },
        {
          "data": {
            "image/png": "[encoded data removed]",
            "text/plain": [
              "<Figure size 640x480 with 1 Axes>"
            ]
          },
          "metadata": {},
          "output_type": "display_data"
        }
      ],
      "source": [
        "sns.set_theme(context='notebook', style='darkgrid', palette=\"husl\")\n",
        "ax = Dataset_orders['order_hour_of_day'].value_counts().plot.bar()\n",
        "ax = Dataset_orders[Dataset_orders['reordered']==1].groupby(['order_hour_of_day']).size().plot.bar(color = 'g')\n",
        "ax.set_xlabel(\"Hour of Day\")\n",
        "ax.set_ylabel(\"Count\")\n",
        "ax.set_title('No. of Orders based on Time ')\n",
        "ax.legend([\"All Orders\", \"Reorders\"])"
      ]
    },
    {
      "cell_type": "markdown",
      "id": "6f0ea1d4-edb2-4090-ab9b-97645f8c5e01",
      "metadata": {},
      "source": [
        "# Recommendation"
      ]
    },
    {
      "cell_type": "markdown",
      "id": "e5d8dfc0-53a9-4359-a4c0-fcde78bd7505",
      "metadata": {
        "nteract": {
          "transient": {
            "deleting": false
          }
        }
      },
      "source": [
        "## Item - Item  Based Using Cosine Simillarity"
      ]
    },
    {
      "cell_type": "code",
      "execution_count": 27,
      "id": "aec7c59b-7209-453c-a100-83347197324c",
      "metadata": {
        "execution": {
          "iopub.execute_input": "2022-12-06T14:22:45.459490Z",
          "iopub.status.busy": "2022-12-06T14:22:45.458024Z",
          "iopub.status.idle": "2022-12-06T14:22:45.486357Z",
          "shell.execute_reply": "2022-12-06T14:22:45.485087Z",
          "shell.execute_reply.started": "2022-12-06T14:22:45.459378Z"
        },
        "gather": {
          "logged": 1670479685387
        },
        "trusted": true
      },
      "outputs": [
        {
          "data": {
            "text/html": [
              "<div>\n",
              "<style scoped>\n",
              "    .dataframe tbody tr th:only-of-type {\n",
              "        vertical-align: middle;\n",
              "    }\n",
              "\n",
              "    .dataframe tbody tr th {\n",
              "        vertical-align: top;\n",
              "    }\n",
              "\n",
              "    .dataframe thead th {\n",
              "        text-align: right;\n",
              "    }\n",
              "</style>\n",
              "<table border=\"1\" class=\"dataframe\">\n",
              "  <thead>\n",
              "    <tr style=\"text-align: right;\">\n",
              "      <th></th>\n",
              "      <th>order_id</th>\n",
              "      <th>product_id</th>\n",
              "      <th>add_to_cart_order</th>\n",
              "      <th>reordered</th>\n",
              "    </tr>\n",
              "  </thead>\n",
              "  <tbody>\n",
              "    <tr>\n",
              "      <th>0</th>\n",
              "      <td>1</td>\n",
              "      <td>49302</td>\n",
              "      <td>1</td>\n",
              "      <td>1</td>\n",
              "    </tr>\n",
              "    <tr>\n",
              "      <th>1</th>\n",
              "      <td>1</td>\n",
              "      <td>11109</td>\n",
              "      <td>2</td>\n",
              "      <td>1</td>\n",
              "    </tr>\n",
              "    <tr>\n",
              "      <th>2</th>\n",
              "      <td>1</td>\n",
              "      <td>10246</td>\n",
              "      <td>3</td>\n",
              "      <td>0</td>\n",
              "    </tr>\n",
              "    <tr>\n",
              "      <th>3</th>\n",
              "      <td>1</td>\n",
              "      <td>49683</td>\n",
              "      <td>4</td>\n",
              "      <td>0</td>\n",
              "    </tr>\n",
              "    <tr>\n",
              "      <th>4</th>\n",
              "      <td>1</td>\n",
              "      <td>43633</td>\n",
              "      <td>5</td>\n",
              "      <td>1</td>\n",
              "    </tr>\n",
              "  </tbody>\n",
              "</table>\n",
              "</div>"
            ],
            "text/plain": [
              "   order_id  product_id  add_to_cart_order  reordered\n",
              "0         1       49302                  1          1\n",
              "1         1       11109                  2          1\n",
              "2         1       10246                  3          0\n",
              "3         1       49683                  4          0\n",
              "4         1       43633                  5          1"
            ]
          },
          "execution_count": 27,
          "metadata": {},
          "output_type": "execute_result"
        }
      ],
      "source": [
        "# smaller training dataframe \n",
        "\n",
        "df = order_products__train[:600000].copy()\n",
        "df.head()"
      ]
    },
    {
      "cell_type": "code",
      "execution_count": 28,
      "id": "7575823b-c0d6-4878-a3cf-4ac02683ed98",
      "metadata": {
        "execution": {
          "iopub.execute_input": "2022-12-06T14:54:22.120272Z",
          "iopub.status.busy": "2022-12-06T14:54:22.119807Z",
          "iopub.status.idle": "2022-12-06T14:54:23.166994Z",
          "shell.execute_reply": "2022-12-06T14:54:23.165654Z",
          "shell.execute_reply.started": "2022-12-06T14:54:22.120233Z"
        },
        "gather": {
          "logged": 1670479826219
        },
        "trusted": true
      },
      "outputs": [],
      "source": [
        "# create sparse matrix of products and orders\n",
        "\n",
        "Sparse_mat = df.pivot(index='product_id', columns='order_id', values='reordered')\n",
        "\n",
        "# Fill about any null values with 0 as well as any non-null values with 1.\n",
        "\n",
        "Sparse_mat[Sparse_mat.notnull()] = 1\n",
        "Sparse_mat[Sparse_mat.isnull()] = 0"
      ]
    },
    {
      "cell_type": "code",
      "execution_count": null,
      "id": "8064afd8-6631-45f4-b1d1-6a56bebcae00",
      "metadata": {
        "jupyter": {
          "outputs_hidden": false,
          "source_hidden": false
        },
        "nteract": {
          "transient": {
            "deleting": false
          }
        }
      },
      "outputs": [],
      "source": []
    },
    {
      "cell_type": "code",
      "execution_count": 29,
      "id": "2377501a-1bf6-48bb-a0ed-6c989dab309e",
      "metadata": {
        "execution": {
          "iopub.execute_input": "2022-12-06T14:54:51.770893Z",
          "iopub.status.busy": "2022-12-06T14:54:51.770442Z",
          "iopub.status.idle": "2022-12-06T14:54:53.932810Z",
          "shell.execute_reply": "2022-12-06T14:54:53.931588Z",
          "shell.execute_reply.started": "2022-12-06T14:54:51.770853Z"
        },
        "gather": {
          "logged": 1670480094034
        },
        "trusted": true
      },
      "outputs": [],
      "source": [
        "# Cosine Similiartiy Matrix\n",
        "\n",
        "Sim_mat = cosine_similarity(Sparse_mat)"
      ]
    },
    {
      "cell_type": "code",
      "execution_count": 35,
      "id": "ba832ca5-97a0-420b-98d7-b2d62f6cab53",
      "metadata": {
        "gather": {
          "logged": 1670480151992
        },
        "jupyter": {
          "outputs_hidden": false,
          "source_hidden": false
        },
        "nteract": {
          "transient": {
            "deleting": false
          }
        }
      },
      "outputs": [
        {
          "data": {
            "text/plain": [
              "array([[1., 0., 0., ..., 0., 0., 0.],\n",
              "       [0., 1., 0., ..., 0., 0., 0.],\n",
              "       [0., 0., 1., ..., 0., 0., 0.],\n",
              "       ...,\n",
              "       [0., 0., 0., ..., 1., 0., 0.],\n",
              "       [0., 0., 0., ..., 0., 1., 0.],\n",
              "       [0., 0., 0., ..., 0., 0., 1.]])"
            ]
          },
          "execution_count": 35,
          "metadata": {},
          "output_type": "execute_result"
        }
      ],
      "source": [
        "Sim_mat"
      ]
    },
    {
      "cell_type": "code",
      "execution_count": 36,
      "id": "88481990-af3f-4c6a-8872-b42188c249f6",
      "metadata": {
        "execution": {
          "iopub.execute_input": "2022-12-06T14:28:57.159271Z",
          "iopub.status.busy": "2022-12-06T14:28:57.158817Z",
          "iopub.status.idle": "2022-12-06T14:29:04.020058Z",
          "shell.execute_reply": "2022-12-06T14:29:04.019103Z",
          "shell.execute_reply.started": "2022-12-06T14:28:57.159236Z"
        },
        "gather": {
          "logged": 1670480212193
        },
        "trusted": true
      },
      "outputs": [],
      "source": [
        "# Saving Similarity Matrix in a pickle file\n",
        "\n",
        "#import pickle\n",
        "#product_sim_matrix.to_csv(\"Final_dataset.csv\",index=False)\n",
        "#pickle.dump(Sim_mat,open(\"similarity.pkl\",\"wb\"))"
      ]
    },
    {
      "cell_type": "code",
      "execution_count": 32,
      "id": "97352468-5ffc-437e-a6c9-dfb41d9544bb",
      "metadata": {
        "execution": {
          "iopub.execute_input": "2022-12-06T14:29:43.972631Z",
          "iopub.status.busy": "2022-12-06T14:29:43.972195Z",
          "iopub.status.idle": "2022-12-06T14:29:43.982755Z",
          "shell.execute_reply": "2022-12-06T14:29:43.981336Z",
          "shell.execute_reply.started": "2022-12-06T14:29:43.972595Z"
        },
        "gather": {
          "logged": 1670480095277
        },
        "trusted": true
      },
      "outputs": [],
      "source": [
        "# Method to find similar products using the sim_mat \n",
        "\n",
        "# Arguments provided - Product ID, Similarity Matrix and the number of Similar Products\n",
        "\n",
        "def Product_Recommendation(prod_id, Representation, n):\n",
        "    \n",
        "    idx = np.where(Sparse_mat.index == prod_id)[0][0]\n",
        "    sim_lst = []\n",
        "    Score = []\n",
        "    Representation = Representation[idx]\n",
        "    \n",
        "    for k in range(len(Representation)):\n",
        "        if Representation[k] > 0.05 and Representation[k] < 0.99:\n",
        "            sim_lst.append(k)\n",
        "            Score.append(Representation[k])\n",
        "            \n",
        "    order_match_list = Sparse_mat[Sparse_mat.reset_index().index.isin(sim_lst)].index.values.tolist()\n",
        "      \n",
        "    df = products[products['product_id'].isin(order_match_list)].copy()\n",
        "    df['sim_score'] = Score\n",
        "    df = df.sort_values(by=['sim_score'], ascending=False)\n",
        "    df = df[:n]\n",
        "    \n",
        "    return df"
      ]
    },
    {
      "cell_type": "code",
      "execution_count": 33,
      "id": "4130bdbc-5500-415c-8388-708a70274128",
      "metadata": {
        "gather": {
          "logged": 1670480095790
        },
        "jupyter": {
          "outputs_hidden": false,
          "source_hidden": false
        },
        "nteract": {
          "transient": {
            "deleting": false
          }
        }
      },
      "outputs": [],
      "source": [
        "# Find the prior rows\n",
        "\n",
        "#Dataset_orders[(Dataset_orders[\"eval_set\"]==\"prior\")]"
      ]
    },
    {
      "cell_type": "markdown",
      "id": "497859f3-7687-4335-940f-d37a0ddc222a",
      "metadata": {
        "nteract": {
          "transient": {
            "deleting": false
          }
        }
      },
      "source": [
        "# Getting Recommendations Based on the provided Product"
      ]
    },
    {
      "cell_type": "code",
      "execution_count": 55,
      "id": "6a8e027e-8ae5-4aa9-a03d-34732233012e",
      "metadata": {
        "gather": {
          "logged": 1670511984407
        },
        "jupyter": {
          "outputs_hidden": false,
          "source_hidden": false
        },
        "nteract": {
          "transient": {
            "deleting": false
          }
        }
      },
      "outputs": [
        {
          "data": {
            "text/html": [
              "<div>\n",
              "<style scoped>\n",
              "    .dataframe tbody tr th:only-of-type {\n",
              "        vertical-align: middle;\n",
              "    }\n",
              "\n",
              "    .dataframe tbody tr th {\n",
              "        vertical-align: top;\n",
              "    }\n",
              "\n",
              "    .dataframe thead th {\n",
              "        text-align: right;\n",
              "    }\n",
              "</style>\n",
              "<table border=\"1\" class=\"dataframe\">\n",
              "  <thead>\n",
              "    <tr style=\"text-align: right;\">\n",
              "      <th></th>\n",
              "      <th>product_id</th>\n",
              "      <th>product_name</th>\n",
              "      <th>aisle_id</th>\n",
              "      <th>department_id</th>\n",
              "      <th>sim_score</th>\n",
              "    </tr>\n",
              "  </thead>\n",
              "  <tbody>\n",
              "    <tr>\n",
              "      <th>3476</th>\n",
              "      <td>3477</td>\n",
              "      <td>Fruit &amp; Veggie 1,2,3</td>\n",
              "      <td>121</td>\n",
              "      <td>14</td>\n",
              "      <td>0.250000</td>\n",
              "    </tr>\n",
              "    <tr>\n",
              "      <th>34655</th>\n",
              "      <td>34656</td>\n",
              "      <td>Queso Blanco</td>\n",
              "      <td>78</td>\n",
              "      <td>19</td>\n",
              "      <td>0.250000</td>\n",
              "    </tr>\n",
              "    <tr>\n",
              "      <th>22608</th>\n",
              "      <td>22609</td>\n",
              "      <td>Whole Grain Millet</td>\n",
              "      <td>63</td>\n",
              "      <td>9</td>\n",
              "      <td>0.176777</td>\n",
              "    </tr>\n",
              "    <tr>\n",
              "      <th>8294</th>\n",
              "      <td>8295</td>\n",
              "      <td>Ultra Strength Ointment</td>\n",
              "      <td>133</td>\n",
              "      <td>11</td>\n",
              "      <td>0.176777</td>\n",
              "    </tr>\n",
              "    <tr>\n",
              "      <th>40789</th>\n",
              "      <td>40790</td>\n",
              "      <td>Organic Coconut Bliss Cherry Amaretto Frozen D...</td>\n",
              "      <td>37</td>\n",
              "      <td>1</td>\n",
              "      <td>0.176777</td>\n",
              "    </tr>\n",
              "    <tr>\n",
              "      <th>5004</th>\n",
              "      <td>5005</td>\n",
              "      <td>Coconut Cacao Drink</td>\n",
              "      <td>31</td>\n",
              "      <td>7</td>\n",
              "      <td>0.176777</td>\n",
              "    </tr>\n",
              "    <tr>\n",
              "      <th>41293</th>\n",
              "      <td>41294</td>\n",
              "      <td>Organic Superfood Coconut Flour Gluten-Free</td>\n",
              "      <td>17</td>\n",
              "      <td>13</td>\n",
              "      <td>0.144338</td>\n",
              "    </tr>\n",
              "    <tr>\n",
              "      <th>8881</th>\n",
              "      <td>8882</td>\n",
              "      <td>Organic White Potato</td>\n",
              "      <td>83</td>\n",
              "      <td>4</td>\n",
              "      <td>0.144338</td>\n",
              "    </tr>\n",
              "    <tr>\n",
              "      <th>13304</th>\n",
              "      <td>13305</td>\n",
              "      <td>100% Whey Protein Vanilla Flavor</td>\n",
              "      <td>65</td>\n",
              "      <td>11</td>\n",
              "      <td>0.144338</td>\n",
              "    </tr>\n",
              "    <tr>\n",
              "      <th>3821</th>\n",
              "      <td>3822</td>\n",
              "      <td>Green Magic Chia Squeeze</td>\n",
              "      <td>117</td>\n",
              "      <td>19</td>\n",
              "      <td>0.117851</td>\n",
              "    </tr>\n",
              "  </tbody>\n",
              "</table>\n",
              "</div>"
            ],
            "text/plain": [
              "       product_id                                       product_name  \\\n",
              "3476         3477                               Fruit & Veggie 1,2,3   \n",
              "34655       34656                                       Queso Blanco   \n",
              "22608       22609                                 Whole Grain Millet   \n",
              "8294         8295                            Ultra Strength Ointment   \n",
              "40789       40790  Organic Coconut Bliss Cherry Amaretto Frozen D...   \n",
              "5004         5005                                Coconut Cacao Drink   \n",
              "41293       41294        Organic Superfood Coconut Flour Gluten-Free   \n",
              "8881         8882                               Organic White Potato   \n",
              "13304       13305                   100% Whey Protein Vanilla Flavor   \n",
              "3821         3822                           Green Magic Chia Squeeze   \n",
              "\n",
              "       aisle_id  department_id  sim_score  \n",
              "3476        121             14   0.250000  \n",
              "34655        78             19   0.250000  \n",
              "22608        63              9   0.176777  \n",
              "8294        133             11   0.176777  \n",
              "40789        37              1   0.176777  \n",
              "5004         31              7   0.176777  \n",
              "41293        17             13   0.144338  \n",
              "8881         83              4   0.144338  \n",
              "13304        65             11   0.144338  \n",
              "3821        117             19   0.117851  "
            ]
          },
          "execution_count": 55,
          "metadata": {},
          "output_type": "execute_result"
        }
      ],
      "source": [
        "# Coconut Butter\n",
        "\n",
        "Product_Recommendation(45918, Sim_mat, 10)"
      ]
    },
    {
      "cell_type": "code",
      "execution_count": 38,
      "id": "a4b3750f-be27-47b6-8309-98a4ccb4cf66",
      "metadata": {
        "execution": {
          "iopub.execute_input": "2022-12-06T14:12:27.685378Z",
          "iopub.status.busy": "2022-12-06T14:12:27.685008Z",
          "iopub.status.idle": "2022-12-06T14:12:30.744599Z",
          "shell.execute_reply": "2022-12-06T14:12:30.743442Z",
          "shell.execute_reply.started": "2022-12-06T14:12:27.685342Z"
        },
        "gather": {
          "logged": 1670480465195
        },
        "trusted": true
      },
      "outputs": [
        {
          "data": {
            "text/html": [
              "<div>\n",
              "<style scoped>\n",
              "    .dataframe tbody tr th:only-of-type {\n",
              "        vertical-align: middle;\n",
              "    }\n",
              "\n",
              "    .dataframe tbody tr th {\n",
              "        vertical-align: top;\n",
              "    }\n",
              "\n",
              "    .dataframe thead th {\n",
              "        text-align: right;\n",
              "    }\n",
              "</style>\n",
              "<table border=\"1\" class=\"dataframe\">\n",
              "  <thead>\n",
              "    <tr style=\"text-align: right;\">\n",
              "      <th></th>\n",
              "      <th>product_id</th>\n",
              "      <th>product_name</th>\n",
              "      <th>aisle_id</th>\n",
              "      <th>department_id</th>\n",
              "      <th>sim_score</th>\n",
              "    </tr>\n",
              "  </thead>\n",
              "  <tbody>\n",
              "    <tr>\n",
              "      <th>44358</th>\n",
              "      <td>44359</td>\n",
              "      <td>Organic Small Bunch Celery</td>\n",
              "      <td>83</td>\n",
              "      <td>4</td>\n",
              "      <td>0.096679</td>\n",
              "    </tr>\n",
              "    <tr>\n",
              "      <th>24963</th>\n",
              "      <td>24964</td>\n",
              "      <td>Organic Garlic</td>\n",
              "      <td>83</td>\n",
              "      <td>4</td>\n",
              "      <td>0.093004</td>\n",
              "    </tr>\n",
              "    <tr>\n",
              "      <th>22934</th>\n",
              "      <td>22935</td>\n",
              "      <td>Organic Yellow Onion</td>\n",
              "      <td>83</td>\n",
              "      <td>4</td>\n",
              "      <td>0.091423</td>\n",
              "    </tr>\n",
              "    <tr>\n",
              "      <th>45006</th>\n",
              "      <td>45007</td>\n",
              "      <td>Organic Zucchini</td>\n",
              "      <td>83</td>\n",
              "      <td>4</td>\n",
              "      <td>0.091348</td>\n",
              "    </tr>\n",
              "    <tr>\n",
              "      <th>21902</th>\n",
              "      <td>21903</td>\n",
              "      <td>Organic Baby Spinach</td>\n",
              "      <td>123</td>\n",
              "      <td>4</td>\n",
              "      <td>0.087541</td>\n",
              "    </tr>\n",
              "    <tr>\n",
              "      <th>34125</th>\n",
              "      <td>34126</td>\n",
              "      <td>Organic Italian Parsley Bunch</td>\n",
              "      <td>16</td>\n",
              "      <td>4</td>\n",
              "      <td>0.087081</td>\n",
              "    </tr>\n",
              "    <tr>\n",
              "      <th>4604</th>\n",
              "      <td>4605</td>\n",
              "      <td>Yellow Onions</td>\n",
              "      <td>83</td>\n",
              "      <td>4</td>\n",
              "      <td>0.086247</td>\n",
              "    </tr>\n",
              "    <tr>\n",
              "      <th>47625</th>\n",
              "      <td>47626</td>\n",
              "      <td>Large Lemon</td>\n",
              "      <td>24</td>\n",
              "      <td>4</td>\n",
              "      <td>0.083061</td>\n",
              "    </tr>\n",
              "    <tr>\n",
              "      <th>28984</th>\n",
              "      <td>28985</td>\n",
              "      <td>Michigan Organic Kale</td>\n",
              "      <td>83</td>\n",
              "      <td>4</td>\n",
              "      <td>0.081422</td>\n",
              "    </tr>\n",
              "    <tr>\n",
              "      <th>34357</th>\n",
              "      <td>34358</td>\n",
              "      <td>Garlic</td>\n",
              "      <td>83</td>\n",
              "      <td>4</td>\n",
              "      <td>0.081064</td>\n",
              "    </tr>\n",
              "  </tbody>\n",
              "</table>\n",
              "</div>"
            ],
            "text/plain": [
              "       product_id                   product_name  aisle_id  department_id  \\\n",
              "44358       44359     Organic Small Bunch Celery        83              4   \n",
              "24963       24964                 Organic Garlic        83              4   \n",
              "22934       22935           Organic Yellow Onion        83              4   \n",
              "45006       45007               Organic Zucchini        83              4   \n",
              "21902       21903           Organic Baby Spinach       123              4   \n",
              "34125       34126  Organic Italian Parsley Bunch        16              4   \n",
              "4604         4605                  Yellow Onions        83              4   \n",
              "47625       47626                    Large Lemon        24              4   \n",
              "28984       28985          Michigan Organic Kale        83              4   \n",
              "34357       34358                         Garlic        83              4   \n",
              "\n",
              "       sim_score  \n",
              "44358   0.096679  \n",
              "24963   0.093004  \n",
              "22934   0.091423  \n",
              "45006   0.091348  \n",
              "21902   0.087541  \n",
              "34125   0.087081  \n",
              "4604    0.086247  \n",
              "47625   0.083061  \n",
              "28984   0.081422  \n",
              "34357   0.081064  "
            ]
          },
          "execution_count": 38,
          "metadata": {},
          "output_type": "execute_result"
        }
      ],
      "source": [
        "# Carrot\n",
        "\n",
        "Product_Recommendation(17794, Sim_mat, 10)"
      ]
    },
    {
      "cell_type": "code",
      "execution_count": 56,
      "id": "f39a0f2c-fd23-4d54-84f8-cd6b3bd8d5e8",
      "metadata": {
        "gather": {
          "logged": 1670512004771
        },
        "jupyter": {
          "outputs_hidden": false,
          "source_hidden": false
        },
        "nteract": {
          "transient": {
            "deleting": false
          }
        }
      },
      "outputs": [
        {
          "data": {
            "text/html": [
              "<div>\n",
              "<style scoped>\n",
              "    .dataframe tbody tr th:only-of-type {\n",
              "        vertical-align: middle;\n",
              "    }\n",
              "\n",
              "    .dataframe tbody tr th {\n",
              "        vertical-align: top;\n",
              "    }\n",
              "\n",
              "    .dataframe thead th {\n",
              "        text-align: right;\n",
              "    }\n",
              "</style>\n",
              "<table border=\"1\" class=\"dataframe\">\n",
              "  <thead>\n",
              "    <tr style=\"text-align: right;\">\n",
              "      <th></th>\n",
              "      <th>product_id</th>\n",
              "      <th>product_name</th>\n",
              "      <th>aisle_id</th>\n",
              "      <th>department_id</th>\n",
              "      <th>sim_score</th>\n",
              "    </tr>\n",
              "  </thead>\n",
              "  <tbody>\n",
              "    <tr>\n",
              "      <th>26987</th>\n",
              "      <td>26988</td>\n",
              "      <td>Chop House T Bone Steak Flavor Dog Food</td>\n",
              "      <td>40</td>\n",
              "      <td>8</td>\n",
              "      <td>0.169031</td>\n",
              "    </tr>\n",
              "    <tr>\n",
              "      <th>12647</th>\n",
              "      <td>12648</td>\n",
              "      <td>Sugar Free Chewy Caramel</td>\n",
              "      <td>45</td>\n",
              "      <td>19</td>\n",
              "      <td>0.169031</td>\n",
              "    </tr>\n",
              "    <tr>\n",
              "      <th>32069</th>\n",
              "      <td>32070</td>\n",
              "      <td>Iced Matcha Tea With A Hint of Honey</td>\n",
              "      <td>94</td>\n",
              "      <td>7</td>\n",
              "      <td>0.169031</td>\n",
              "    </tr>\n",
              "    <tr>\n",
              "      <th>22183</th>\n",
              "      <td>22184</td>\n",
              "      <td>Regenerist Micro-Exfoliating Wet Facial Cleans...</td>\n",
              "      <td>73</td>\n",
              "      <td>11</td>\n",
              "      <td>0.169031</td>\n",
              "    </tr>\n",
              "    <tr>\n",
              "      <th>16306</th>\n",
              "      <td>16307</td>\n",
              "      <td>Crystal Deodorant Stone</td>\n",
              "      <td>80</td>\n",
              "      <td>11</td>\n",
              "      <td>0.169031</td>\n",
              "    </tr>\n",
              "    <tr>\n",
              "      <th>49370</th>\n",
              "      <td>49371</td>\n",
              "      <td>Pouf Bath Sponge</td>\n",
              "      <td>132</td>\n",
              "      <td>11</td>\n",
              "      <td>0.169031</td>\n",
              "    </tr>\n",
              "    <tr>\n",
              "      <th>4608</th>\n",
              "      <td>4609</td>\n",
              "      <td>Sweet Baby Lettuce</td>\n",
              "      <td>123</td>\n",
              "      <td>4</td>\n",
              "      <td>0.169031</td>\n",
              "    </tr>\n",
              "    <tr>\n",
              "      <th>3435</th>\n",
              "      <td>3436</td>\n",
              "      <td>Egg Substitute</td>\n",
              "      <td>86</td>\n",
              "      <td>16</td>\n",
              "      <td>0.169031</td>\n",
              "    </tr>\n",
              "    <tr>\n",
              "      <th>7223</th>\n",
              "      <td>7224</td>\n",
              "      <td>Prime Cuts Homestyle With Beef In Gravy Dog Food</td>\n",
              "      <td>40</td>\n",
              "      <td>8</td>\n",
              "      <td>0.119523</td>\n",
              "    </tr>\n",
              "    <tr>\n",
              "      <th>31930</th>\n",
              "      <td>31931</td>\n",
              "      <td>Pure Fire Tonic Apple Cider Vinegar Drink</td>\n",
              "      <td>77</td>\n",
              "      <td>7</td>\n",
              "      <td>0.119523</td>\n",
              "    </tr>\n",
              "  </tbody>\n",
              "</table>\n",
              "</div>"
            ],
            "text/plain": [
              "       product_id                                       product_name  \\\n",
              "26987       26988            Chop House T Bone Steak Flavor Dog Food   \n",
              "12647       12648                           Sugar Free Chewy Caramel   \n",
              "32069       32070               Iced Matcha Tea With A Hint of Honey   \n",
              "22183       22184  Regenerist Micro-Exfoliating Wet Facial Cleans...   \n",
              "16306       16307                            Crystal Deodorant Stone   \n",
              "49370       49371                                   Pouf Bath Sponge   \n",
              "4608         4609                                 Sweet Baby Lettuce   \n",
              "3435         3436                                     Egg Substitute   \n",
              "7223         7224   Prime Cuts Homestyle With Beef In Gravy Dog Food   \n",
              "31930       31931          Pure Fire Tonic Apple Cider Vinegar Drink   \n",
              "\n",
              "       aisle_id  department_id  sim_score  \n",
              "26987        40              8   0.169031  \n",
              "12647        45             19   0.169031  \n",
              "32069        94              7   0.169031  \n",
              "22183        73             11   0.169031  \n",
              "16306        80             11   0.169031  \n",
              "49370       132             11   0.169031  \n",
              "4608        123              4   0.169031  \n",
              "3435         86             16   0.169031  \n",
              "7223         40              8   0.119523  \n",
              "31930        77              7   0.119523  "
            ]
          },
          "execution_count": 56,
          "metadata": {},
          "output_type": "execute_result"
        }
      ],
      "source": [
        "# organic turkey burgers\n",
        "\n",
        "Product_Recommendation(23, Sim_mat, 10)"
      ]
    },
    {
      "cell_type": "code",
      "execution_count": 57,
      "id": "4a442943-aa79-4ce3-bfc1-a2b5366f6007",
      "metadata": {
        "execution": {
          "iopub.execute_input": "2022-12-06T14:12:30.746728Z",
          "iopub.status.busy": "2022-12-06T14:12:30.745763Z",
          "iopub.status.idle": "2022-12-06T14:12:33.795012Z",
          "shell.execute_reply": "2022-12-06T14:12:33.793659Z",
          "shell.execute_reply.started": "2022-12-06T14:12:30.746690Z"
        },
        "gather": {
          "logged": 1670512024944
        },
        "trusted": true
      },
      "outputs": [
        {
          "data": {
            "text/html": [
              "<div>\n",
              "<style scoped>\n",
              "    .dataframe tbody tr th:only-of-type {\n",
              "        vertical-align: middle;\n",
              "    }\n",
              "\n",
              "    .dataframe tbody tr th {\n",
              "        vertical-align: top;\n",
              "    }\n",
              "\n",
              "    .dataframe thead th {\n",
              "        text-align: right;\n",
              "    }\n",
              "</style>\n",
              "<table border=\"1\" class=\"dataframe\">\n",
              "  <thead>\n",
              "    <tr style=\"text-align: right;\">\n",
              "      <th></th>\n",
              "      <th>product_id</th>\n",
              "      <th>product_name</th>\n",
              "      <th>aisle_id</th>\n",
              "      <th>department_id</th>\n",
              "      <th>sim_score</th>\n",
              "    </tr>\n",
              "  </thead>\n",
              "  <tbody>\n",
              "    <tr>\n",
              "      <th>12647</th>\n",
              "      <td>12648</td>\n",
              "      <td>Sugar Free Chewy Caramel</td>\n",
              "      <td>45</td>\n",
              "      <td>19</td>\n",
              "      <td>0.707107</td>\n",
              "    </tr>\n",
              "    <tr>\n",
              "      <th>22183</th>\n",
              "      <td>22184</td>\n",
              "      <td>Regenerist Micro-Exfoliating Wet Facial Cleans...</td>\n",
              "      <td>73</td>\n",
              "      <td>11</td>\n",
              "      <td>0.707107</td>\n",
              "    </tr>\n",
              "    <tr>\n",
              "      <th>26987</th>\n",
              "      <td>26988</td>\n",
              "      <td>Chop House T Bone Steak Flavor Dog Food</td>\n",
              "      <td>40</td>\n",
              "      <td>8</td>\n",
              "      <td>0.707107</td>\n",
              "    </tr>\n",
              "    <tr>\n",
              "      <th>3435</th>\n",
              "      <td>3436</td>\n",
              "      <td>Egg Substitute</td>\n",
              "      <td>86</td>\n",
              "      <td>16</td>\n",
              "      <td>0.707107</td>\n",
              "    </tr>\n",
              "    <tr>\n",
              "      <th>22545</th>\n",
              "      <td>22546</td>\n",
              "      <td>Choice Cuts In Gravy Country Stew Wet Dog Food</td>\n",
              "      <td>40</td>\n",
              "      <td>8</td>\n",
              "      <td>0.500000</td>\n",
              "    </tr>\n",
              "    <tr>\n",
              "      <th>7223</th>\n",
              "      <td>7224</td>\n",
              "      <td>Prime Cuts Homestyle With Beef In Gravy Dog Food</td>\n",
              "      <td>40</td>\n",
              "      <td>8</td>\n",
              "      <td>0.500000</td>\n",
              "    </tr>\n",
              "    <tr>\n",
              "      <th>7705</th>\n",
              "      <td>7706</td>\n",
              "      <td>Lamb &amp; Rice Prime Cuts in Gravy Tender, Meaty ...</td>\n",
              "      <td>40</td>\n",
              "      <td>8</td>\n",
              "      <td>0.500000</td>\n",
              "    </tr>\n",
              "    <tr>\n",
              "      <th>45441</th>\n",
              "      <td>45442</td>\n",
              "      <td>Air Effects Gain Original Scent</td>\n",
              "      <td>101</td>\n",
              "      <td>17</td>\n",
              "      <td>0.500000</td>\n",
              "    </tr>\n",
              "    <tr>\n",
              "      <th>48272</th>\n",
              "      <td>48273</td>\n",
              "      <td>Choice Cuts In Gravy W/Beef (PS #1211231) Wet ...</td>\n",
              "      <td>40</td>\n",
              "      <td>8</td>\n",
              "      <td>0.408248</td>\n",
              "    </tr>\n",
              "    <tr>\n",
              "      <th>32250</th>\n",
              "      <td>32251</td>\n",
              "      <td>Sugar Free Hard Candies</td>\n",
              "      <td>45</td>\n",
              "      <td>19</td>\n",
              "      <td>0.408248</td>\n",
              "    </tr>\n",
              "  </tbody>\n",
              "</table>\n",
              "</div>"
            ],
            "text/plain": [
              "       product_id                                       product_name  \\\n",
              "12647       12648                           Sugar Free Chewy Caramel   \n",
              "22183       22184  Regenerist Micro-Exfoliating Wet Facial Cleans...   \n",
              "26987       26988            Chop House T Bone Steak Flavor Dog Food   \n",
              "3435         3436                                     Egg Substitute   \n",
              "22545       22546     Choice Cuts In Gravy Country Stew Wet Dog Food   \n",
              "7223         7224   Prime Cuts Homestyle With Beef In Gravy Dog Food   \n",
              "7705         7706  Lamb & Rice Prime Cuts in Gravy Tender, Meaty ...   \n",
              "45441       45442                    Air Effects Gain Original Scent   \n",
              "48272       48273  Choice Cuts In Gravy W/Beef (PS #1211231) Wet ...   \n",
              "32250       32251                            Sugar Free Hard Candies   \n",
              "\n",
              "       aisle_id  department_id  sim_score  \n",
              "12647        45             19   0.707107  \n",
              "22183        73             11   0.707107  \n",
              "26987        40              8   0.707107  \n",
              "3435         86             16   0.707107  \n",
              "22545        40              8   0.500000  \n",
              "7223         40              8   0.500000  \n",
              "7705         40              8   0.500000  \n",
              "45441       101             17   0.500000  \n",
              "48272        40              8   0.408248  \n",
              "32250        45             19   0.408248  "
            ]
          },
          "execution_count": 57,
          "metadata": {},
          "output_type": "execute_result"
        }
      ],
      "source": [
        "# chicken & Rice Traditional Ground Dinner Dog Food\n",
        "\n",
        "Product_Recommendation(12623, Sim_mat, 10)"
      ]
    },
    {
      "cell_type": "code",
      "execution_count": 58,
      "id": "2705ee48-b1f3-459d-9230-eabc77375366",
      "metadata": {
        "execution": {
          "iopub.execute_input": "2022-12-06T14:12:33.797515Z",
          "iopub.status.busy": "2022-12-06T14:12:33.797036Z",
          "iopub.status.idle": "2022-12-06T14:12:36.813512Z",
          "shell.execute_reply": "2022-12-06T14:12:36.812415Z",
          "shell.execute_reply.started": "2022-12-06T14:12:33.797470Z"
        },
        "gather": {
          "logged": 1670514770455
        },
        "trusted": true
      },
      "outputs": [
        {
          "data": {
            "text/html": [
              "<div>\n",
              "<style scoped>\n",
              "    .dataframe tbody tr th:only-of-type {\n",
              "        vertical-align: middle;\n",
              "    }\n",
              "\n",
              "    .dataframe tbody tr th {\n",
              "        vertical-align: top;\n",
              "    }\n",
              "\n",
              "    .dataframe thead th {\n",
              "        text-align: right;\n",
              "    }\n",
              "</style>\n",
              "<table border=\"1\" class=\"dataframe\">\n",
              "  <thead>\n",
              "    <tr style=\"text-align: right;\">\n",
              "      <th></th>\n",
              "      <th>product_id</th>\n",
              "      <th>product_name</th>\n",
              "      <th>aisle_id</th>\n",
              "      <th>department_id</th>\n",
              "      <th>sim_score</th>\n",
              "    </tr>\n",
              "  </thead>\n",
              "  <tbody>\n",
              "    <tr>\n",
              "      <th>12575</th>\n",
              "      <td>12576</td>\n",
              "      <td>Kiwi Sandia Sparkling Water</td>\n",
              "      <td>115</td>\n",
              "      <td>7</td>\n",
              "      <td>0.268926</td>\n",
              "    </tr>\n",
              "    <tr>\n",
              "      <th>45746</th>\n",
              "      <td>45747</td>\n",
              "      <td>Curate Melon Pomelo Sparking Water</td>\n",
              "      <td>115</td>\n",
              "      <td>7</td>\n",
              "      <td>0.203554</td>\n",
              "    </tr>\n",
              "    <tr>\n",
              "      <th>30352</th>\n",
              "      <td>30353</td>\n",
              "      <td>Curate Cherry Lime Sparkling Water</td>\n",
              "      <td>115</td>\n",
              "      <td>7</td>\n",
              "      <td>0.170772</td>\n",
              "    </tr>\n",
              "    <tr>\n",
              "      <th>27274</th>\n",
              "      <td>27275</td>\n",
              "      <td>Pineapple Strawberry Sparkling Water</td>\n",
              "      <td>115</td>\n",
              "      <td>7</td>\n",
              "      <td>0.126543</td>\n",
              "    </tr>\n",
              "    <tr>\n",
              "      <th>31963</th>\n",
              "      <td>31964</td>\n",
              "      <td>Passionfruit Sparkling Water</td>\n",
              "      <td>115</td>\n",
              "      <td>7</td>\n",
              "      <td>0.123688</td>\n",
              "    </tr>\n",
              "    <tr>\n",
              "      <th>12301</th>\n",
              "      <td>12302</td>\n",
              "      <td>Sparkling Water, Natural Mango Essenced</td>\n",
              "      <td>115</td>\n",
              "      <td>7</td>\n",
              "      <td>0.100385</td>\n",
              "    </tr>\n",
              "    <tr>\n",
              "      <th>7692</th>\n",
              "      <td>7693</td>\n",
              "      <td>Cran-Raspberry Flavored Sparkling Water</td>\n",
              "      <td>115</td>\n",
              "      <td>7</td>\n",
              "      <td>0.086998</td>\n",
              "    </tr>\n",
              "    <tr>\n",
              "      <th>41681</th>\n",
              "      <td>41682</td>\n",
              "      <td>Curate Pomme Baya-Apple Berry Sparkling Water</td>\n",
              "      <td>115</td>\n",
              "      <td>7</td>\n",
              "      <td>0.084337</td>\n",
              "    </tr>\n",
              "    <tr>\n",
              "      <th>43276</th>\n",
              "      <td>43277</td>\n",
              "      <td>Pitted Organic Kalamata Olives To Go!</td>\n",
              "      <td>110</td>\n",
              "      <td>13</td>\n",
              "      <td>0.078027</td>\n",
              "    </tr>\n",
              "    <tr>\n",
              "      <th>1830</th>\n",
              "      <td>1831</td>\n",
              "      <td>Peach-Pear Sparkling Water</td>\n",
              "      <td>115</td>\n",
              "      <td>7</td>\n",
              "      <td>0.074256</td>\n",
              "    </tr>\n",
              "  </tbody>\n",
              "</table>\n",
              "</div>"
            ],
            "text/plain": [
              "       product_id                                   product_name  aisle_id  \\\n",
              "12575       12576                    Kiwi Sandia Sparkling Water       115   \n",
              "45746       45747             Curate Melon Pomelo Sparking Water       115   \n",
              "30352       30353             Curate Cherry Lime Sparkling Water       115   \n",
              "27274       27275           Pineapple Strawberry Sparkling Water       115   \n",
              "31963       31964                   Passionfruit Sparkling Water       115   \n",
              "12301       12302        Sparkling Water, Natural Mango Essenced       115   \n",
              "7692         7693        Cran-Raspberry Flavored Sparkling Water       115   \n",
              "41681       41682  Curate Pomme Baya-Apple Berry Sparkling Water       115   \n",
              "43276       43277          Pitted Organic Kalamata Olives To Go!       110   \n",
              "1830         1831                     Peach-Pear Sparkling Water       115   \n",
              "\n",
              "       department_id  sim_score  \n",
              "12575              7   0.268926  \n",
              "45746              7   0.203554  \n",
              "30352              7   0.170772  \n",
              "27274              7   0.126543  \n",
              "31963              7   0.123688  \n",
              "12301              7   0.100385  \n",
              "7692               7   0.086998  \n",
              "41681              7   0.084337  \n",
              "43276             13   0.078027  \n",
              "1830               7   0.074256  "
            ]
          },
          "execution_count": 58,
          "metadata": {},
          "output_type": "execute_result"
        }
      ],
      "source": [
        "# Blackberry Cucumber Sparkling Water\n",
        "\n",
        "Product_Recommendation(39947, Sim_mat, 10)"
      ]
    },
    {
      "cell_type": "code",
      "execution_count": 59,
      "id": "89205921-184b-41b9-985c-860b78d79ce1",
      "metadata": {
        "execution": {
          "iopub.execute_input": "2022-12-06T14:12:36.815811Z",
          "iopub.status.busy": "2022-12-06T14:12:36.814830Z",
          "iopub.status.idle": "2022-12-06T14:12:39.856465Z",
          "shell.execute_reply": "2022-12-06T14:12:39.855352Z",
          "shell.execute_reply.started": "2022-12-06T14:12:36.815773Z"
        },
        "gather": {
          "logged": 1670514790211
        },
        "trusted": true
      },
      "outputs": [
        {
          "data": {
            "text/html": [
              "<div>\n",
              "<style scoped>\n",
              "    .dataframe tbody tr th:only-of-type {\n",
              "        vertical-align: middle;\n",
              "    }\n",
              "\n",
              "    .dataframe tbody tr th {\n",
              "        vertical-align: top;\n",
              "    }\n",
              "\n",
              "    .dataframe thead th {\n",
              "        text-align: right;\n",
              "    }\n",
              "</style>\n",
              "<table border=\"1\" class=\"dataframe\">\n",
              "  <thead>\n",
              "    <tr style=\"text-align: right;\">\n",
              "      <th></th>\n",
              "      <th>product_id</th>\n",
              "      <th>product_name</th>\n",
              "      <th>aisle_id</th>\n",
              "      <th>department_id</th>\n",
              "      <th>sim_score</th>\n",
              "    </tr>\n",
              "  </thead>\n",
              "  <tbody>\n",
              "    <tr>\n",
              "      <th>37951</th>\n",
              "      <td>37952</td>\n",
              "      <td>Soup Lentil</td>\n",
              "      <td>69</td>\n",
              "      <td>15</td>\n",
              "      <td>0.071474</td>\n",
              "    </tr>\n",
              "    <tr>\n",
              "      <th>48102</th>\n",
              "      <td>48103</td>\n",
              "      <td>Mini Banana Chocolate Chip Bars Snack Cakes</td>\n",
              "      <td>112</td>\n",
              "      <td>3</td>\n",
              "      <td>0.070186</td>\n",
              "    </tr>\n",
              "    <tr>\n",
              "      <th>1574</th>\n",
              "      <td>1575</td>\n",
              "      <td>Melba Toast, Classic</td>\n",
              "      <td>78</td>\n",
              "      <td>19</td>\n",
              "      <td>0.061898</td>\n",
              "    </tr>\n",
              "    <tr>\n",
              "      <th>1671</th>\n",
              "      <td>1672</td>\n",
              "      <td>English Cucumbers</td>\n",
              "      <td>32</td>\n",
              "      <td>4</td>\n",
              "      <td>0.061898</td>\n",
              "    </tr>\n",
              "    <tr>\n",
              "      <th>48562</th>\n",
              "      <td>48563</td>\n",
              "      <td>Organic Dark Chocolate With Toasted Almond Pie...</td>\n",
              "      <td>45</td>\n",
              "      <td>19</td>\n",
              "      <td>0.061898</td>\n",
              "    </tr>\n",
              "    <tr>\n",
              "      <th>47175</th>\n",
              "      <td>47176</td>\n",
              "      <td>Comforting Geranium Aromatherapy Mineral Bath</td>\n",
              "      <td>25</td>\n",
              "      <td>11</td>\n",
              "      <td>0.061898</td>\n",
              "    </tr>\n",
              "    <tr>\n",
              "      <th>45870</th>\n",
              "      <td>45871</td>\n",
              "      <td>Mixed Beans</td>\n",
              "      <td>59</td>\n",
              "      <td>15</td>\n",
              "      <td>0.061898</td>\n",
              "    </tr>\n",
              "    <tr>\n",
              "      <th>43848</th>\n",
              "      <td>43849</td>\n",
              "      <td>Organic Very Dark Chocolate Bar</td>\n",
              "      <td>45</td>\n",
              "      <td>19</td>\n",
              "      <td>0.061898</td>\n",
              "    </tr>\n",
              "    <tr>\n",
              "      <th>40009</th>\n",
              "      <td>40010</td>\n",
              "      <td>Rolled Fillets Of Anchovies</td>\n",
              "      <td>95</td>\n",
              "      <td>15</td>\n",
              "      <td>0.061898</td>\n",
              "    </tr>\n",
              "    <tr>\n",
              "      <th>37994</th>\n",
              "      <td>37995</td>\n",
              "      <td>Calabrese Spicy Salame with Sangiovese Wine</td>\n",
              "      <td>96</td>\n",
              "      <td>20</td>\n",
              "      <td>0.061898</td>\n",
              "    </tr>\n",
              "  </tbody>\n",
              "</table>\n",
              "</div>"
            ],
            "text/plain": [
              "       product_id                                       product_name  \\\n",
              "37951       37952                                        Soup Lentil   \n",
              "48102       48103        Mini Banana Chocolate Chip Bars Snack Cakes   \n",
              "1574         1575                               Melba Toast, Classic   \n",
              "1671         1672                                  English Cucumbers   \n",
              "48562       48563  Organic Dark Chocolate With Toasted Almond Pie...   \n",
              "47175       47176      Comforting Geranium Aromatherapy Mineral Bath   \n",
              "45870       45871                                        Mixed Beans   \n",
              "43848       43849                    Organic Very Dark Chocolate Bar   \n",
              "40009       40010                        Rolled Fillets Of Anchovies   \n",
              "37994       37995        Calabrese Spicy Salame with Sangiovese Wine   \n",
              "\n",
              "       aisle_id  department_id  sim_score  \n",
              "37951        69             15   0.071474  \n",
              "48102       112              3   0.070186  \n",
              "1574         78             19   0.061898  \n",
              "1671         32              4   0.061898  \n",
              "48562        45             19   0.061898  \n",
              "47175        25             11   0.061898  \n",
              "45870        59             15   0.061898  \n",
              "43848        45             19   0.061898  \n",
              "40009        95             15   0.061898  \n",
              "37994        96             20   0.061898  "
            ]
          },
          "execution_count": 59,
          "metadata": {},
          "output_type": "execute_result"
        }
      ],
      "source": [
        "# Lemon Humus\n",
        "\n",
        "Product_Recommendation(13646, Sim_mat, 10)"
      ]
    },
    {
      "cell_type": "code",
      "execution_count": 60,
      "id": "af9f635e-fb5b-435e-b276-3a829d8818be",
      "metadata": {
        "execution": {
          "iopub.execute_input": "2022-12-06T14:12:39.858457Z",
          "iopub.status.busy": "2022-12-06T14:12:39.857845Z",
          "iopub.status.idle": "2022-12-06T14:12:42.987008Z",
          "shell.execute_reply": "2022-12-06T14:12:42.985886Z",
          "shell.execute_reply.started": "2022-12-06T14:12:39.858422Z"
        },
        "gather": {
          "logged": 1670514810131
        },
        "trusted": true
      },
      "outputs": [
        {
          "data": {
            "text/html": [
              "<div>\n",
              "<style scoped>\n",
              "    .dataframe tbody tr th:only-of-type {\n",
              "        vertical-align: middle;\n",
              "    }\n",
              "\n",
              "    .dataframe tbody tr th {\n",
              "        vertical-align: top;\n",
              "    }\n",
              "\n",
              "    .dataframe thead th {\n",
              "        text-align: right;\n",
              "    }\n",
              "</style>\n",
              "<table border=\"1\" class=\"dataframe\">\n",
              "  <thead>\n",
              "    <tr style=\"text-align: right;\">\n",
              "      <th></th>\n",
              "      <th>product_id</th>\n",
              "      <th>product_name</th>\n",
              "      <th>aisle_id</th>\n",
              "      <th>department_id</th>\n",
              "      <th>sim_score</th>\n",
              "    </tr>\n",
              "  </thead>\n",
              "  <tbody>\n",
              "    <tr>\n",
              "      <th>19273</th>\n",
              "      <td>19274</td>\n",
              "      <td>Organic Brown Sugar</td>\n",
              "      <td>17</td>\n",
              "      <td>13</td>\n",
              "      <td>0.353553</td>\n",
              "    </tr>\n",
              "    <tr>\n",
              "      <th>4032</th>\n",
              "      <td>4033</td>\n",
              "      <td>Nightly Calm Herbal Tea K-Cup Pods</td>\n",
              "      <td>94</td>\n",
              "      <td>7</td>\n",
              "      <td>0.353553</td>\n",
              "    </tr>\n",
              "    <tr>\n",
              "      <th>12687</th>\n",
              "      <td>12688</td>\n",
              "      <td>Children's Grape Flavor Nighttime Cough Syrup</td>\n",
              "      <td>11</td>\n",
              "      <td>11</td>\n",
              "      <td>0.250000</td>\n",
              "    </tr>\n",
              "    <tr>\n",
              "      <th>38879</th>\n",
              "      <td>38880</td>\n",
              "      <td>Pure Green Tea K-Cups</td>\n",
              "      <td>94</td>\n",
              "      <td>7</td>\n",
              "      <td>0.250000</td>\n",
              "    </tr>\n",
              "    <tr>\n",
              "      <th>22329</th>\n",
              "      <td>22330</td>\n",
              "      <td>Garlic &amp; Herb Shirataki Pasta</td>\n",
              "      <td>131</td>\n",
              "      <td>9</td>\n",
              "      <td>0.250000</td>\n",
              "    </tr>\n",
              "    <tr>\n",
              "      <th>19949</th>\n",
              "      <td>19950</td>\n",
              "      <td>Cauliflower Pizza Crusts</td>\n",
              "      <td>128</td>\n",
              "      <td>3</td>\n",
              "      <td>0.250000</td>\n",
              "    </tr>\n",
              "    <tr>\n",
              "      <th>27143</th>\n",
              "      <td>27144</td>\n",
              "      <td>Organic Chocolate Rooibos Caffeine Free Tea</td>\n",
              "      <td>94</td>\n",
              "      <td>7</td>\n",
              "      <td>0.204124</td>\n",
              "    </tr>\n",
              "    <tr>\n",
              "      <th>4915</th>\n",
              "      <td>4916</td>\n",
              "      <td>Disney Frozen Berry Cherry Raspberry Ice Pops</td>\n",
              "      <td>37</td>\n",
              "      <td>1</td>\n",
              "      <td>0.176777</td>\n",
              "    </tr>\n",
              "    <tr>\n",
              "      <th>41997</th>\n",
              "      <td>41998</td>\n",
              "      <td>Lite Honey Mustard Vinaigrette Dressing Lite</td>\n",
              "      <td>89</td>\n",
              "      <td>13</td>\n",
              "      <td>0.176777</td>\n",
              "    </tr>\n",
              "    <tr>\n",
              "      <th>27259</th>\n",
              "      <td>27260</td>\n",
              "      <td>Cafe Latte Vanilla</td>\n",
              "      <td>98</td>\n",
              "      <td>7</td>\n",
              "      <td>0.176777</td>\n",
              "    </tr>\n",
              "  </tbody>\n",
              "</table>\n",
              "</div>"
            ],
            "text/plain": [
              "       product_id                                   product_name  aisle_id  \\\n",
              "19273       19274                            Organic Brown Sugar        17   \n",
              "4032         4033             Nightly Calm Herbal Tea K-Cup Pods        94   \n",
              "12687       12688  Children's Grape Flavor Nighttime Cough Syrup        11   \n",
              "38879       38880                          Pure Green Tea K-Cups        94   \n",
              "22329       22330                  Garlic & Herb Shirataki Pasta       131   \n",
              "19949       19950                       Cauliflower Pizza Crusts       128   \n",
              "27143       27144    Organic Chocolate Rooibos Caffeine Free Tea        94   \n",
              "4915         4916  Disney Frozen Berry Cherry Raspberry Ice Pops        37   \n",
              "41997       41998   Lite Honey Mustard Vinaigrette Dressing Lite        89   \n",
              "27259       27260                             Cafe Latte Vanilla        98   \n",
              "\n",
              "       department_id  sim_score  \n",
              "19273             13   0.353553  \n",
              "4032               7   0.353553  \n",
              "12687             11   0.250000  \n",
              "38879              7   0.250000  \n",
              "22329              9   0.250000  \n",
              "19949              3   0.250000  \n",
              "27143              7   0.204124  \n",
              "4915               1   0.176777  \n",
              "41997             13   0.176777  \n",
              "27259              7   0.176777  "
            ]
          },
          "execution_count": 60,
          "metadata": {},
          "output_type": "execute_result"
        }
      ],
      "source": [
        "# Natural Sweetener\n",
        "\n",
        "Product_Recommendation(30035, Sim_mat, 10)"
      ]
    }
  ],
  "metadata": {
    "kernel_info": {
      "name": "python3"
    },
    "kernelspec": {
      "display_name": "Python 3 (ipykernel)",
      "language": "python",
      "name": "python3"
    },
    "language_info": {
      "codemirror_mode": {
        "name": "ipython",
        "version": 3
      },
      "file_extension": ".py",
      "mimetype": "text/x-python",
      "name": "python",
      "nbconvert_exporter": "python",
      "pygments_lexer": "ipython3",
      "version": "3.10.4"
    },
    "microsoft": {
      "host": {
        "AzureML": {
          "notebookHasBeenCompleted": true
        }
      }
    },
    "nteract": {
      "version": "nteract-front-end@1.0.0"
    }
  },
  "nbformat": 4,
  "nbformat_minor": 5
}
