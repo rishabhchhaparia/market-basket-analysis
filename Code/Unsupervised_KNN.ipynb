{
  "cells": [
    {
      "cell_type": "code",
      "execution_count": 2,
      "id": "43b6ade7",
      "metadata": {
        "gather": {
          "logged": 1670380403321
        }
      },
      "outputs": [],
      "source": [
        "import pandas as pd"
      ]
    },
    {
      "cell_type": "code",
      "execution_count": 3,
      "id": "9043b4bc",
      "metadata": {},
      "outputs": [],
      "source": [
        "aisles=pd.read_csv('../input/market-basket-analysis/aisles.csv')\n",
        "departments=pd.read_csv('../input/market-basket-analysis/departments.csv')\n",
        "orders=pd.read_csv('../input/market-basket-analysis/orders.csv')\n",
        "products=pd.read_csv('../input/market-basket-analysis/products.csv')\n",
        "sample_submission=pd.read_csv('../input/market-basket-analysis/sample_submission.csv')\n",
        "order_products__prior=pd.read_csv('../input/market-basket-analysis/order_products__prior.csv')\n",
        "order_products__train=pd.read_csv('../input/market-basket-analysis/order_products__train.csv')"
      ]
    },
    {
      "cell_type": "code",
      "execution_count": 4,
      "id": "ca88d9f7",
      "metadata": {},
      "outputs": [],
      "source": [
        "orders['days_since_prior_order']=orders['days_since_prior_order'].fillna(-1)"
      ]
    },
    {
      "cell_type": "code",
      "execution_count": 6,
      "id": "c4a793ae-943f-42a1-9278-e5a7e2226e05",
      "metadata": {
        "execution": {
          "iopub.execute_input": "2022-12-06T14:05:49.276834Z",
          "iopub.status.busy": "2022-12-06T14:05:49.276439Z",
          "iopub.status.idle": "2022-12-06T14:05:52.985900Z",
          "shell.execute_reply": "2022-12-06T14:05:52.984984Z",
          "shell.execute_reply.started": "2022-12-06T14:05:49.276803Z"
        },
        "gather": {
          "logged": 1670515812669
        },
        "trusted": true
      },
      "outputs": [],
      "source": [
        "#Merging  train order and prior orders first (to check)\n",
        "\n",
        "Dataset_orders = pd.concat([order_products__prior, order_products__train]).sort_values(by=['order_id'])"
      ]
    },
    {
      "cell_type": "code",
      "execution_count": 7,
      "id": "5f1a4415-98b8-4ae7-8008-53df30c6d2bb",
      "metadata": {
        "execution": {
          "iopub.execute_input": "2022-12-06T14:05:53.032986Z",
          "iopub.status.busy": "2022-12-06T14:05:53.031888Z",
          "iopub.status.idle": "2022-12-06T14:06:13.298992Z",
          "shell.execute_reply": "2022-12-06T14:06:13.296390Z",
          "shell.execute_reply.started": "2022-12-06T14:05:53.032928Z"
        },
        "gather": {
          "logged": 1670515903937
        },
        "trusted": true
      },
      "outputs": [],
      "source": [
        "#Concatenating with other DFs\n",
        "\n",
        "Dataset_orders = pd.merge(left = Dataset_orders, right = products,\n",
        "                             left_on='product_id', right_on='product_id').sort_values(by=['order_id']).reset_index(drop=True)\n",
        "Dataset_orders = pd.merge(left = Dataset_orders, right = aisles,\n",
        "                             left_on='aisle_id', right_on='aisle_id').sort_values(by=['order_id']).reset_index(drop=True)\n",
        "Dataset_orders = pd.merge(left = Dataset_orders, right = departments,\n",
        "                             left_on='department_id', right_on='department_id').sort_values(by=['order_id']).reset_index(drop=True)\n",
        "Dataset_orders = pd.merge(left = Dataset_orders, right = orders,\n",
        "                             left_on='order_id', right_on='order_id').sort_values(by=['order_id']).reset_index(drop=True)"
      ]
    },
    {
      "cell_type": "code",
      "execution_count": 8,
      "id": "60cd9241",
      "metadata": {},
      "outputs": [],
      "source": [
        "# prior_train_orders=pd.read_csv('../input/Final_dataset.csv')\n",
        "prior_train_orders = Dataset_orders\n",
        "filtered_df = prior_train_orders[['user_id', 'reordered', 'product_name']]"
      ]
    },
    {
      "cell_type": "code",
      "execution_count": 25,
      "id": "bd0ef3d4",
      "metadata": {
        "gather": {
          "logged": 1670390221030
        }
      },
      "outputs": [],
      "source": [
        "filtered_df_200k = filtered_df.sample(n=200000, random_state=99)"
      ]
    },
    {
      "cell_type": "code",
      "execution_count": 4,
      "id": "c19f87ff",
      "metadata": {
        "gather": {
          "logged": 1670380731314
        }
      },
      "outputs": [],
      "source": [
        "order_products_pivot = filtered_df_200k.pivot_table(values='reordered', index='product_name', columns='user_id')\n",
        "order_products_pivot = order_products_pivot.fillna(-1)"
      ]
    },
    {
      "cell_type": "code",
      "execution_count": 26,
      "id": "642b41ab",
      "metadata": {
        "gather": {
          "logged": 1670390563304
        }
      },
      "outputs": [
        {
          "data": {
            "text/html": [
              "<div>\n",
              "<style scoped>\n",
              "    .dataframe tbody tr th:only-of-type {\n",
              "        vertical-align: middle;\n",
              "    }\n",
              "\n",
              "    .dataframe tbody tr th {\n",
              "        vertical-align: top;\n",
              "    }\n",
              "\n",
              "    .dataframe thead th {\n",
              "        text-align: right;\n",
              "    }\n",
              "</style>\n",
              "<table border=\"1\" class=\"dataframe\">\n",
              "  <thead>\n",
              "    <tr style=\"text-align: right;\">\n",
              "      <th>user_id</th>\n",
              "      <th>2</th>\n",
              "      <th>3</th>\n",
              "      <th>8</th>\n",
              "      <th>10</th>\n",
              "      <th>18</th>\n",
              "      <th>19</th>\n",
              "      <th>23</th>\n",
              "      <th>27</th>\n",
              "      <th>28</th>\n",
              "      <th>31</th>\n",
              "      <th>...</th>\n",
              "      <th>206193</th>\n",
              "      <th>206195</th>\n",
              "      <th>206197</th>\n",
              "      <th>206199</th>\n",
              "      <th>206200</th>\n",
              "      <th>206201</th>\n",
              "      <th>206203</th>\n",
              "      <th>206204</th>\n",
              "      <th>206206</th>\n",
              "      <th>206208</th>\n",
              "    </tr>\n",
              "    <tr>\n",
              "      <th>product_name</th>\n",
              "      <th></th>\n",
              "      <th></th>\n",
              "      <th></th>\n",
              "      <th></th>\n",
              "      <th></th>\n",
              "      <th></th>\n",
              "      <th></th>\n",
              "      <th></th>\n",
              "      <th></th>\n",
              "      <th></th>\n",
              "      <th></th>\n",
              "      <th></th>\n",
              "      <th></th>\n",
              "      <th></th>\n",
              "      <th></th>\n",
              "      <th></th>\n",
              "      <th></th>\n",
              "      <th></th>\n",
              "      <th></th>\n",
              "      <th></th>\n",
              "      <th></th>\n",
              "    </tr>\n",
              "  </thead>\n",
              "  <tbody>\n",
              "    <tr>\n",
              "      <th>&amp; Go! Hazelnut Spread + Pretzel Sticks</th>\n",
              "      <td>-1.0</td>\n",
              "      <td>-1.0</td>\n",
              "      <td>-1.0</td>\n",
              "      <td>-1.0</td>\n",
              "      <td>-1.0</td>\n",
              "      <td>-1.0</td>\n",
              "      <td>-1.0</td>\n",
              "      <td>-1.0</td>\n",
              "      <td>-1.0</td>\n",
              "      <td>-1.0</td>\n",
              "      <td>...</td>\n",
              "      <td>-1.0</td>\n",
              "      <td>-1.0</td>\n",
              "      <td>-1.0</td>\n",
              "      <td>-1.0</td>\n",
              "      <td>-1.0</td>\n",
              "      <td>-1.0</td>\n",
              "      <td>-1.0</td>\n",
              "      <td>-1.0</td>\n",
              "      <td>-1.0</td>\n",
              "      <td>-1.0</td>\n",
              "    </tr>\n",
              "    <tr>\n",
              "      <th>+Energy Black Cherry Vegetable &amp; Fruit Juice</th>\n",
              "      <td>-1.0</td>\n",
              "      <td>-1.0</td>\n",
              "      <td>-1.0</td>\n",
              "      <td>-1.0</td>\n",
              "      <td>-1.0</td>\n",
              "      <td>-1.0</td>\n",
              "      <td>-1.0</td>\n",
              "      <td>-1.0</td>\n",
              "      <td>-1.0</td>\n",
              "      <td>-1.0</td>\n",
              "      <td>...</td>\n",
              "      <td>-1.0</td>\n",
              "      <td>-1.0</td>\n",
              "      <td>-1.0</td>\n",
              "      <td>-1.0</td>\n",
              "      <td>-1.0</td>\n",
              "      <td>-1.0</td>\n",
              "      <td>-1.0</td>\n",
              "      <td>-1.0</td>\n",
              "      <td>-1.0</td>\n",
              "      <td>-1.0</td>\n",
              "    </tr>\n",
              "    <tr>\n",
              "      <th>0 Calorie Acai Raspberry Water Beverage</th>\n",
              "      <td>-1.0</td>\n",
              "      <td>-1.0</td>\n",
              "      <td>-1.0</td>\n",
              "      <td>-1.0</td>\n",
              "      <td>-1.0</td>\n",
              "      <td>-1.0</td>\n",
              "      <td>-1.0</td>\n",
              "      <td>-1.0</td>\n",
              "      <td>-1.0</td>\n",
              "      <td>-1.0</td>\n",
              "      <td>...</td>\n",
              "      <td>-1.0</td>\n",
              "      <td>-1.0</td>\n",
              "      <td>-1.0</td>\n",
              "      <td>-1.0</td>\n",
              "      <td>-1.0</td>\n",
              "      <td>-1.0</td>\n",
              "      <td>-1.0</td>\n",
              "      <td>-1.0</td>\n",
              "      <td>-1.0</td>\n",
              "      <td>-1.0</td>\n",
              "    </tr>\n",
              "    <tr>\n",
              "      <th>0 Calorie Strawberry Dragonfruit Water Beverage</th>\n",
              "      <td>-1.0</td>\n",
              "      <td>-1.0</td>\n",
              "      <td>-1.0</td>\n",
              "      <td>-1.0</td>\n",
              "      <td>-1.0</td>\n",
              "      <td>-1.0</td>\n",
              "      <td>-1.0</td>\n",
              "      <td>-1.0</td>\n",
              "      <td>-1.0</td>\n",
              "      <td>-1.0</td>\n",
              "      <td>...</td>\n",
              "      <td>-1.0</td>\n",
              "      <td>-1.0</td>\n",
              "      <td>-1.0</td>\n",
              "      <td>-1.0</td>\n",
              "      <td>-1.0</td>\n",
              "      <td>-1.0</td>\n",
              "      <td>-1.0</td>\n",
              "      <td>-1.0</td>\n",
              "      <td>-1.0</td>\n",
              "      <td>-1.0</td>\n",
              "    </tr>\n",
              "    <tr>\n",
              "      <th>0% Fat Blueberry Greek Yogurt</th>\n",
              "      <td>-1.0</td>\n",
              "      <td>-1.0</td>\n",
              "      <td>-1.0</td>\n",
              "      <td>-1.0</td>\n",
              "      <td>-1.0</td>\n",
              "      <td>-1.0</td>\n",
              "      <td>-1.0</td>\n",
              "      <td>-1.0</td>\n",
              "      <td>-1.0</td>\n",
              "      <td>-1.0</td>\n",
              "      <td>...</td>\n",
              "      <td>-1.0</td>\n",
              "      <td>-1.0</td>\n",
              "      <td>-1.0</td>\n",
              "      <td>-1.0</td>\n",
              "      <td>-1.0</td>\n",
              "      <td>-1.0</td>\n",
              "      <td>-1.0</td>\n",
              "      <td>-1.0</td>\n",
              "      <td>-1.0</td>\n",
              "      <td>-1.0</td>\n",
              "    </tr>\n",
              "  </tbody>\n",
              "</table>\n",
              "<p>5 rows × 96374 columns</p>\n",
              "</div>"
            ],
            "text/plain": [
              "user_id                                          2       3       8       \\\n",
              "product_name                                                              \n",
              "& Go! Hazelnut Spread + Pretzel Sticks             -1.0    -1.0    -1.0   \n",
              "+Energy Black Cherry Vegetable & Fruit Juice       -1.0    -1.0    -1.0   \n",
              "0 Calorie Acai Raspberry Water Beverage            -1.0    -1.0    -1.0   \n",
              "0 Calorie Strawberry Dragonfruit Water Beverage    -1.0    -1.0    -1.0   \n",
              "0% Fat Blueberry Greek Yogurt                      -1.0    -1.0    -1.0   \n",
              "\n",
              "user_id                                          10      18      19      \\\n",
              "product_name                                                              \n",
              "& Go! Hazelnut Spread + Pretzel Sticks             -1.0    -1.0    -1.0   \n",
              "+Energy Black Cherry Vegetable & Fruit Juice       -1.0    -1.0    -1.0   \n",
              "0 Calorie Acai Raspberry Water Beverage            -1.0    -1.0    -1.0   \n",
              "0 Calorie Strawberry Dragonfruit Water Beverage    -1.0    -1.0    -1.0   \n",
              "0% Fat Blueberry Greek Yogurt                      -1.0    -1.0    -1.0   \n",
              "\n",
              "user_id                                          23      27      28      \\\n",
              "product_name                                                              \n",
              "& Go! Hazelnut Spread + Pretzel Sticks             -1.0    -1.0    -1.0   \n",
              "+Energy Black Cherry Vegetable & Fruit Juice       -1.0    -1.0    -1.0   \n",
              "0 Calorie Acai Raspberry Water Beverage            -1.0    -1.0    -1.0   \n",
              "0 Calorie Strawberry Dragonfruit Water Beverage    -1.0    -1.0    -1.0   \n",
              "0% Fat Blueberry Greek Yogurt                      -1.0    -1.0    -1.0   \n",
              "\n",
              "user_id                                          31      ...  206193  206195  \\\n",
              "product_name                                             ...                   \n",
              "& Go! Hazelnut Spread + Pretzel Sticks             -1.0  ...    -1.0    -1.0   \n",
              "+Energy Black Cherry Vegetable & Fruit Juice       -1.0  ...    -1.0    -1.0   \n",
              "0 Calorie Acai Raspberry Water Beverage            -1.0  ...    -1.0    -1.0   \n",
              "0 Calorie Strawberry Dragonfruit Water Beverage    -1.0  ...    -1.0    -1.0   \n",
              "0% Fat Blueberry Greek Yogurt                      -1.0  ...    -1.0    -1.0   \n",
              "\n",
              "user_id                                          206197  206199  206200  \\\n",
              "product_name                                                              \n",
              "& Go! Hazelnut Spread + Pretzel Sticks             -1.0    -1.0    -1.0   \n",
              "+Energy Black Cherry Vegetable & Fruit Juice       -1.0    -1.0    -1.0   \n",
              "0 Calorie Acai Raspberry Water Beverage            -1.0    -1.0    -1.0   \n",
              "0 Calorie Strawberry Dragonfruit Water Beverage    -1.0    -1.0    -1.0   \n",
              "0% Fat Blueberry Greek Yogurt                      -1.0    -1.0    -1.0   \n",
              "\n",
              "user_id                                          206201  206203  206204  \\\n",
              "product_name                                                              \n",
              "& Go! Hazelnut Spread + Pretzel Sticks             -1.0    -1.0    -1.0   \n",
              "+Energy Black Cherry Vegetable & Fruit Juice       -1.0    -1.0    -1.0   \n",
              "0 Calorie Acai Raspberry Water Beverage            -1.0    -1.0    -1.0   \n",
              "0 Calorie Strawberry Dragonfruit Water Beverage    -1.0    -1.0    -1.0   \n",
              "0% Fat Blueberry Greek Yogurt                      -1.0    -1.0    -1.0   \n",
              "\n",
              "user_id                                          206206  206208  \n",
              "product_name                                                     \n",
              "& Go! Hazelnut Spread + Pretzel Sticks             -1.0    -1.0  \n",
              "+Energy Black Cherry Vegetable & Fruit Juice       -1.0    -1.0  \n",
              "0 Calorie Acai Raspberry Water Beverage            -1.0    -1.0  \n",
              "0 Calorie Strawberry Dragonfruit Water Beverage    -1.0    -1.0  \n",
              "0% Fat Blueberry Greek Yogurt                      -1.0    -1.0  \n",
              "\n",
              "[5 rows x 96374 columns]"
            ]
          },
          "execution_count": 26,
          "metadata": {},
          "output_type": "execute_result"
        }
      ],
      "source": [
        "order_products_pivot.head()"
      ]
    },
    {
      "cell_type": "code",
      "execution_count": 7,
      "id": "ee4f6e5a",
      "metadata": {
        "gather": {
          "logged": 1670311025625
        }
      },
      "outputs": [],
      "source": [
        "from scipy.sparse import csr_matrix\n",
        "order_products_matrix=csr_matrix(order_products_pivot.values)"
      ]
    },
    {
      "cell_type": "code",
      "execution_count": 7,
      "id": "eaa098c4-c8e1-4154-9f50-6d3a22a82661",
      "metadata": {
        "gather": {
          "logged": 1670380845572
        },
        "jupyter": {
          "outputs_hidden": false,
          "source_hidden": false
        },
        "nteract": {
          "transient": {
            "deleting": false
          }
        }
      },
      "outputs": [],
      "source": [
        "from scipy import sparse\n",
        "\n",
        "# sparse.save_npz(\"order_products_matrix.npz\", order_products_matrix) \n",
        "order_products_matrix = your_matrix_back = sparse.load_npz(\"order_products_matrix.npz\")"
      ]
    },
    {
      "cell_type": "code",
      "execution_count": 29,
      "id": "6a42d4e8-6bf7-4b0a-8a4a-f0a4e43f4e2c",
      "metadata": {
        "gather": {
          "logged": 1670394145507
        },
        "jupyter": {
          "outputs_hidden": false,
          "source_hidden": false
        },
        "nteract": {
          "transient": {
            "deleting": false
          }
        }
      },
      "outputs": [],
      "source": [
        "from sklearn.neighbors import NearestNeighbors\n",
        "\n",
        "kNNModel = NearestNeighbors(metric='cosine',algorithm='brute')"
      ]
    },
    {
      "cell_type": "code",
      "execution_count": 30,
      "id": "c51814f1-7779-4907-a007-6036f3959b92",
      "metadata": {
        "gather": {
          "logged": 1670394377516
        },
        "jupyter": {
          "outputs_hidden": false,
          "source_hidden": false
        },
        "nteract": {
          "transient": {
            "deleting": false
          }
        }
      },
      "outputs": [
        {
          "data": {
            "text/plain": [
              "NearestNeighbors(algorithm='brute', leaf_size=30, metric='cosine',\n",
              "                 metric_params=None, n_jobs=None, n_neighbors=5, p=2,\n",
              "                 radius=1.0)"
            ]
          },
          "execution_count": 30,
          "metadata": {},
          "output_type": "execute_result"
        }
      ],
      "source": [
        "kNNModel.fit(order_products_matrix)"
      ]
    },
    {
      "cell_type": "code",
      "execution_count": 19,
      "id": "c0990366-3db9-459f-a4a9-6076d6c92c47",
      "metadata": {
        "gather": {
          "logged": 1670382379946
        },
        "jupyter": {
          "outputs_hidden": false,
          "source_hidden": false
        },
        "nteract": {
          "transient": {
            "deleting": false
          }
        }
      },
      "outputs": [],
      "source": [
        "import pickle\n",
        "pickle.dump(kNNModel, open(\"knnModel.sav\", 'wb'))"
      ]
    },
    {
      "cell_type": "code",
      "execution_count": 31,
      "id": "d6247b2b-4669-4cf8-a094-b8f713348563",
      "metadata": {
        "gather": {
          "logged": 1670394382895
        },
        "jupyter": {
          "outputs_hidden": false,
          "source_hidden": false
        },
        "nteract": {
          "transient": {
            "deleting": false
          }
        }
      },
      "outputs": [],
      "source": [
        "import numpy as np\n",
        "qIndex = np.random.choice(order_products_pivot.shape[0])"
      ]
    },
    {
      "cell_type": "code",
      "execution_count": 32,
      "id": "ac4cdd81-6654-467f-bd2a-9c89eac79f2d",
      "metadata": {
        "gather": {
          "logged": 1670394463880
        },
        "jupyter": {
          "outputs_hidden": false,
          "source_hidden": false
        },
        "nteract": {
          "transient": {
            "deleting": false
          }
        }
      },
      "outputs": [],
      "source": [
        "dist, idx = kNNModel.kneighbors(order_products_pivot.iloc[qIndex,:].values.reshape(1,-1), n_neighbors=6)"
      ]
    },
    {
      "cell_type": "code",
      "execution_count": 17,
      "id": "3262106c-88a3-4928-b8ef-ab3557d18767",
      "metadata": {
        "gather": {
          "logged": 1670381812682
        },
        "jupyter": {
          "outputs_hidden": false,
          "source_hidden": false
        },
        "nteract": {
          "transient": {
            "deleting": false
          }
        }
      },
      "outputs": [
        {
          "name": "stdout",
          "output_type": "stream",
          "text": [
            "Recommendations for Lemon Sparkling Natural Spring Water : \n",
            "\n",
            "1 : Natural Dishwasher Detergent Gel - Lemon\n",
            "2 : Natural Deli Slices Imported Light Swiss Cheese\n",
            "3 : Natural Delights Pitted Medjool Dates\n",
            "4 : Natural Concord Grape Fruit Spread\n",
            "5 : Raw Honey, Organic\n"
          ]
        }
      ],
      "source": [
        "for i in range(0,len(dist.flatten())):\n",
        "    if i == 0:\n",
        "        print('Recommendations for {0} : \\n'.format(order_products_pivot.index[idx.flatten()[i]]))\n",
        "    else:\n",
        "        print ('{0} : {1}'.format(i,order_products_pivot.index[idx.flatten()[i]]))\n",
        "        \n"
      ]
    }
  ],
  "metadata": {
    "kernel_info": {
      "name": "python3"
    },
    "kernelspec": {
      "display_name": "Python 3 (ipykernel)",
      "language": "python",
      "name": "python3"
    },
    "language_info": {
      "codemirror_mode": {
        "name": "ipython",
        "version": 3
      },
      "file_extension": ".py",
      "mimetype": "text/x-python",
      "name": "python",
      "nbconvert_exporter": "python",
      "pygments_lexer": "ipython3",
      "version": "3.10.4"
    },
    "nteract": {
      "version": "nteract-front-end@1.0.0"
    },
    "vscode": {
      "interpreter": {
        "hash": "b984b6cd31d680ad135f7e15da2d3b38dd94d62b48019a92616e61cf3e8911ce"
      }
    }
  },
  "nbformat": 4,
  "nbformat_minor": 5
}
