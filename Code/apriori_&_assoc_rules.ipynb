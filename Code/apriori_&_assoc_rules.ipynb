{
 "cells": [
  {
   "cell_type": "code",
   "execution_count": 1,
   "metadata": {},
   "outputs": [],
   "source": [
    "import pandas as pd\n",
    "import numpy as np\n",
    "from itertools import combinations, groupby\n",
    "from collections import Counter\n",
    "from mlxtend.frequent_patterns import apriori\n",
    "from mlxtend.frequent_patterns import association_rules"
   ]
  },
  {
   "cell_type": "code",
   "execution_count": 2,
   "metadata": {},
   "outputs": [],
   "source": [
    "aisles=pd.read_csv('../input/market-basket-analysis/aisles.csv')\n",
    "departments=pd.read_csv('../input/market-basket-analysis/departments.csv')\n",
    "orders=pd.read_csv('../input/market-basket-analysis/orders.csv')\n",
    "products=pd.read_csv('../input/market-basket-analysis/products.csv')\n",
    "sample_submission=pd.read_csv('../input/market-basket-analysis/sample_submission.csv')\n",
    "order_products__prior=pd.read_csv('../input/market-basket-analysis/order_products__prior.csv')\n",
    "order_products__train=pd.read_csv('../input/market-basket-analysis/order_products__train.csv')"
   ]
  },
  {
   "cell_type": "code",
   "execution_count": 4,
   "metadata": {},
   "outputs": [],
   "source": [
    "orders['days_since_prior_order']=orders['days_since_prior_order'].fillna(-1)"
   ]
  },
  {
   "cell_type": "code",
   "execution_count": 5,
   "metadata": {},
   "outputs": [],
   "source": [
    "product_dict = dict(zip(products['product_id'], products['product_name']))\n",
    "product_dict_inv = dict(zip(products['product_name'], products['product_id']))"
   ]
  },
  {
   "cell_type": "code",
   "execution_count": null,
   "id": "c4a793ae-943f-42a1-9278-e5a7e2226e05",
   "metadata": {
    "execution": {
     "iopub.execute_input": "2022-12-06T14:05:49.276834Z",
     "iopub.status.busy": "2022-12-06T14:05:49.276439Z",
     "iopub.status.idle": "2022-12-06T14:05:52.985900Z",
     "shell.execute_reply": "2022-12-06T14:05:52.984984Z",
     "shell.execute_reply.started": "2022-12-06T14:05:49.276803Z"
    },
    "gather": {
     "logged": 1670515812669
    },
    "trusted": true
   },
   "outputs": [],
   "source": [
    "#Merging  train order and prior orders first (to check)\n",
    "\n",
    "Dataset_orders = pd.concat([order_products__prior, order_products__train]).sort_values(by=['order_id'])"
   ]
  },
  {
   "cell_type": "code",
   "execution_count": null,
   "id": "5f1a4415-98b8-4ae7-8008-53df30c6d2bb",
   "metadata": {
    "execution": {
     "iopub.execute_input": "2022-12-06T14:05:53.032986Z",
     "iopub.status.busy": "2022-12-06T14:05:53.031888Z",
     "iopub.status.idle": "2022-12-06T14:06:13.298992Z",
     "shell.execute_reply": "2022-12-06T14:06:13.296390Z",
     "shell.execute_reply.started": "2022-12-06T14:05:53.032928Z"
    },
    "gather": {
     "logged": 1670515903937
    },
    "trusted": true
   },
   "outputs": [],
   "source": [
    "#Concatenating with other DFs\n",
    "\n",
    "Dataset_orders = pd.merge(left = Dataset_orders, right = products,\n",
    "                             left_on='product_id', right_on='product_id').sort_values(by=['order_id']).reset_index(drop=True)\n",
    "Dataset_orders = pd.merge(left = Dataset_orders, right = aisles,\n",
    "                             left_on='aisle_id', right_on='aisle_id').sort_values(by=['order_id']).reset_index(drop=True)\n",
    "Dataset_orders = pd.merge(left = Dataset_orders, right = departments,\n",
    "                             left_on='department_id', right_on='department_id').sort_values(by=['order_id']).reset_index(drop=True)\n",
    "prior_train_orders = pd.merge(left = Dataset_orders, right = orders,\n",
    "                             left_on='order_id', right_on='order_id').sort_values(by=['order_id']).reset_index(drop=True)"
   ]
  },
  {
   "cell_type": "markdown",
   "metadata": {},
   "source": [
    "### Apriori"
   ]
  },
  {
   "cell_type": "code",
   "execution_count": 8,
   "metadata": {},
   "outputs": [],
   "source": [
    "df1 = pd.merge(order_products__prior, orders, on= 'order_id')\n",
    "prod_aisles = pd.merge(products, aisles, on = 'aisle_id')\n",
    "df2 = pd.merge(prod_aisles, departments, on = 'department_id')\n",
    "combined_df = pd.merge(df1, df2, on = 'product_id').reset_index(drop=True)"
   ]
  },
  {
   "cell_type": "code",
   "execution_count": 9,
   "metadata": {},
   "outputs": [
    {
     "name": "stderr",
     "output_type": "stream",
     "text": [
      "/Library/Frameworks/Python.framework/Versions/3.10/lib/python3.10/site-packages/pandas/core/reshape/reshape.py:134: PerformanceWarning: The following operation may generate 6066221847 cells in the resulting pandas object.\n",
      "  warnings.warn(\n"
     ]
    }
   ],
   "source": [
    "np.random.seed(942)\n",
    "temp_df = prior_train_orders.sample(n=1000000)[['user_id','product_name']]\n",
    "basket = pd.crosstab(temp_df['user_id'],temp_df['product_name']).astype('bool').astype('int')"
   ]
  },
  {
   "cell_type": "code",
   "execution_count": 41,
   "metadata": {},
   "outputs": [
    {
     "data": {
      "text/plain": [
       "order_id\n",
       "1    49302\n",
       "1    49683\n",
       "1    13176\n",
       "1    43633\n",
       "1    10246\n",
       "1    47209\n",
       "1    22035\n",
       "1    11109\n",
       "2    17794\n",
       "2    30035\n",
       "Name: product_id, dtype: int64"
      ]
     },
     "execution_count": 41,
     "metadata": {},
     "output_type": "execute_result"
    }
   ],
   "source": [
    "orders_items = prior_train_orders.set_index('order_id')['product_id']\n",
    "orders_items.head(10)"
   ]
  },
  {
   "cell_type": "code",
   "execution_count": 42,
   "metadata": {},
   "outputs": [],
   "source": [
    "# frequency counts for items and item pairs\n",
    "def frequency(iterable):\n",
    "    return iterable.value_counts().rename(\"frequency\") if type(iterable) == pd.core.series.Series else pd.Series(Counter(iterable)).rename(\"frequency\")\n",
    "\n",
    "# number of unique orders\n",
    "def order_count(order_item):\n",
    "    return len(set(order_item.index))\n",
    "\n",
    "# generator function to yield item pairs\n",
    "def build_item_pairs(order_item):\n",
    "    order_item = order_item.reset_index().values\n",
    "    for _, data in groupby(order_item, lambda x: x[0]):\n",
    "        item_list = [item[1] for item in data]\n",
    "\n",
    "        for item_pair in combinations(item_list, 2):\n",
    "            yield item_pair\n",
    "\n",
    "# frequency and support associated with item\n",
    "def merge_item_stats(item_pairs, item_stats):\n",
    "    return (item_pairs\n",
    "            .merge(item_stats.rename(columns={'frequency': 'frequencyA', 'support': 'supportA'}), left_on='item_A', right_index=True)\n",
    "            .merge(item_stats.rename(columns={'frequency': 'frequencyB', 'support': 'supportB'}), left_on='item_B', right_index=True))\n",
    "\n",
    "# name associated with item\n",
    "def merge_item_name(rules, item_name):\n",
    "    columns = ['itemA', 'itemB', 'freqAB', 'supportAB', 'frequencyA', 'supportA', 'frequencyB', 'supportB',\n",
    "               'confAtoB', 'confBtoA', 'lift']\n",
    "    rules = (rules\n",
    "             .merge(item_name.rename(columns={'item_name': 'itemA'}), left_on='item_A', right_on='item_id')\n",
    "             .merge(item_name.rename(columns={'item_name': 'itemB'}), left_on='item_B', right_on='item_id'))\n",
    "    return rules[columns]\n"
   ]
  },
  {
   "cell_type": "code",
   "execution_count": 43,
   "metadata": {},
   "outputs": [],
   "source": [
    "def generate_association_rules(order_item, min_support):\n",
    "    # item frequency and support\n",
    "    item_stats = frequency(order_item).to_frame(\"frequency\")\n",
    "    item_stats['support'] = item_stats['frequency'] / order_count(order_item) * 100\n",
    "\n",
    "    # order_item items below min support\n",
    "    qualifying_items = item_stats[item_stats['support'] >= min_support].index\n",
    "    order_item = order_item[order_item.isin(qualifying_items)]\n",
    "\n",
    "    # orders with less than 2 items\n",
    "    order_size = frequency(order_item.index)\n",
    "    qualifying_orders = order_size[order_size >= 2].index\n",
    "    order_item = order_item[order_item.index.isin(qualifying_orders)]\n",
    "\n",
    "    # item frequency and support\n",
    "    item_stats = frequency(order_item).to_frame(\"frequency\")\n",
    "    item_stats['support'] = item_stats['frequency'] / order_count(order_item) * 100\n",
    "\n",
    "    # build item pairs\n",
    "    item_pair_gen = build_item_pairs(order_item)\n",
    "\n",
    "    # item pair frequency and support\n",
    "    item_pairs = frequency(item_pair_gen).to_frame(\"freqAB\")\n",
    "    item_pairs['supportAB'] = item_pairs['freqAB'] / len(qualifying_orders) * 100\n",
    "\n",
    "    # item_pairs below min support\n",
    "    item_pairs = item_pairs[item_pairs['supportAB'] >= min_support]\n",
    "\n",
    "    # association rules df\n",
    "    item_pairs = item_pairs.reset_index().rename(columns={'level_0': 'item_A', 'level_1': 'item_B'})\n",
    "    item_pairs = merge_item_stats(item_pairs, item_stats)\n",
    "\n",
    "    # association rules metrics\n",
    "    item_pairs['confAtoB'] = item_pairs['supportAB'] / item_pairs['supportA']\n",
    "    item_pairs['confBtoA'] = item_pairs['supportAB'] / item_pairs['supportB']\n",
    "    item_pairs['lift'] = item_pairs['supportAB'] / (item_pairs['supportA'] * item_pairs['supportB'])\n",
    "\n",
    "    return item_pairs.sort_values('lift', ascending=False)\n"
   ]
  },
  {
   "cell_type": "code",
   "execution_count": 44,
   "metadata": {},
   "outputs": [],
   "source": [
    "rules = generate_association_rules(orders_items, 0.01)"
   ]
  },
  {
   "cell_type": "code",
   "execution_count": 45,
   "metadata": {},
   "outputs": [
    {
     "data": {
      "text/html": [
       "<div>\n",
       "<style scoped>\n",
       "    .dataframe tbody tr th:only-of-type {\n",
       "        vertical-align: middle;\n",
       "    }\n",
       "\n",
       "    .dataframe tbody tr th {\n",
       "        vertical-align: top;\n",
       "    }\n",
       "\n",
       "    .dataframe thead th {\n",
       "        text-align: right;\n",
       "    }\n",
       "</style>\n",
       "<table border=\"1\" class=\"dataframe\">\n",
       "  <thead>\n",
       "    <tr style=\"text-align: right;\">\n",
       "      <th></th>\n",
       "      <th>item_A</th>\n",
       "      <th>item_B</th>\n",
       "      <th>lift</th>\n",
       "    </tr>\n",
       "  </thead>\n",
       "  <tbody>\n",
       "    <tr>\n",
       "      <th>38192</th>\n",
       "      <td>11212</td>\n",
       "      <td>12820</td>\n",
       "      <td>5.218205</td>\n",
       "    </tr>\n",
       "    <tr>\n",
       "      <th>23112</th>\n",
       "      <td>44781</td>\n",
       "      <td>32201</td>\n",
       "      <td>4.751334</td>\n",
       "    </tr>\n",
       "    <tr>\n",
       "      <th>26347</th>\n",
       "      <td>32201</td>\n",
       "      <td>44781</td>\n",
       "      <td>4.649155</td>\n",
       "    </tr>\n",
       "    <tr>\n",
       "      <th>45670</th>\n",
       "      <td>93</td>\n",
       "      <td>32792</td>\n",
       "      <td>4.619217</td>\n",
       "    </tr>\n",
       "    <tr>\n",
       "      <th>43798</th>\n",
       "      <td>12060</td>\n",
       "      <td>21527</td>\n",
       "      <td>4.191511</td>\n",
       "    </tr>\n",
       "    <tr>\n",
       "      <th>22561</th>\n",
       "      <td>21527</td>\n",
       "      <td>12060</td>\n",
       "      <td>3.976010</td>\n",
       "    </tr>\n",
       "    <tr>\n",
       "      <th>38297</th>\n",
       "      <td>1577</td>\n",
       "      <td>35050</td>\n",
       "      <td>3.941266</td>\n",
       "    </tr>\n",
       "    <tr>\n",
       "      <th>36409</th>\n",
       "      <td>1577</td>\n",
       "      <td>12060</td>\n",
       "      <td>3.914005</td>\n",
       "    </tr>\n",
       "    <tr>\n",
       "      <th>31197</th>\n",
       "      <td>12060</td>\n",
       "      <td>1577</td>\n",
       "      <td>3.841016</td>\n",
       "    </tr>\n",
       "    <tr>\n",
       "      <th>36080</th>\n",
       "      <td>32792</td>\n",
       "      <td>93</td>\n",
       "      <td>3.768620</td>\n",
       "    </tr>\n",
       "  </tbody>\n",
       "</table>\n",
       "</div>"
      ],
      "text/plain": [
       "       item_A  item_B      lift\n",
       "38192   11212   12820  5.218205\n",
       "23112   44781   32201  4.751334\n",
       "26347   32201   44781  4.649155\n",
       "45670      93   32792  4.619217\n",
       "43798   12060   21527  4.191511\n",
       "22561   21527   12060  3.976010\n",
       "38297    1577   35050  3.941266\n",
       "36409    1577   12060  3.914005\n",
       "31197   12060    1577  3.841016\n",
       "36080   32792      93  3.768620"
      ]
     },
     "execution_count": 45,
     "metadata": {},
     "output_type": "execute_result"
    }
   ],
   "source": [
    "rules[['item_A', 'item_B', 'lift']].sort_values('lift', ascending=False).head(10)"
   ]
  },
  {
   "cell_type": "code",
   "execution_count": 46,
   "metadata": {},
   "outputs": [],
   "source": [
    "rules['item_A'] = [product_dict[id] for id in rules['item_A']]\n",
    "rules['item_B'] = [product_dict[id] for id in rules['item_B']]"
   ]
  },
  {
   "cell_type": "code",
   "execution_count": 47,
   "metadata": {},
   "outputs": [
    {
     "data": {
      "text/html": [
       "<div>\n",
       "<style scoped>\n",
       "    .dataframe tbody tr th:only-of-type {\n",
       "        vertical-align: middle;\n",
       "    }\n",
       "\n",
       "    .dataframe tbody tr th {\n",
       "        vertical-align: top;\n",
       "    }\n",
       "\n",
       "    .dataframe thead th {\n",
       "        text-align: right;\n",
       "    }\n",
       "</style>\n",
       "<table border=\"1\" class=\"dataframe\">\n",
       "  <thead>\n",
       "    <tr style=\"text-align: right;\">\n",
       "      <th></th>\n",
       "      <th>item_A</th>\n",
       "      <th>item_B</th>\n",
       "      <th>lift</th>\n",
       "    </tr>\n",
       "  </thead>\n",
       "  <tbody>\n",
       "    <tr>\n",
       "      <th>38192</th>\n",
       "      <td>Apple Blueberry Fruit Yogurt Smoothie</td>\n",
       "      <td>Organic Fruit Yogurt Smoothie Mixed Berry</td>\n",
       "      <td>5.218205</td>\n",
       "    </tr>\n",
       "    <tr>\n",
       "      <th>23112</th>\n",
       "      <td>0% Greek, Blueberry on the Bottom Yogurt</td>\n",
       "      <td>Nonfat Strawberry With Fruit On The Bottom Gre...</td>\n",
       "      <td>4.751334</td>\n",
       "    </tr>\n",
       "    <tr>\n",
       "      <th>26347</th>\n",
       "      <td>Nonfat Strawberry With Fruit On The Bottom Gre...</td>\n",
       "      <td>0% Greek, Blueberry on the Bottom Yogurt</td>\n",
       "      <td>4.649155</td>\n",
       "    </tr>\n",
       "    <tr>\n",
       "      <th>45670</th>\n",
       "      <td>Uncured Cracked Pepper Beef</td>\n",
       "      <td>Chipotle Beef &amp; Pork Realstick</td>\n",
       "      <td>4.619217</td>\n",
       "    </tr>\n",
       "    <tr>\n",
       "      <th>43798</th>\n",
       "      <td>Unsweetened Whole Milk Mixed Berry Greek Yogurt</td>\n",
       "      <td>Unsweetened Whole Milk Blueberry Greek Yogurt</td>\n",
       "      <td>4.191511</td>\n",
       "    </tr>\n",
       "    <tr>\n",
       "      <th>22561</th>\n",
       "      <td>Unsweetened Whole Milk Blueberry Greek Yogurt</td>\n",
       "      <td>Unsweetened Whole Milk Mixed Berry Greek Yogurt</td>\n",
       "      <td>3.976010</td>\n",
       "    </tr>\n",
       "    <tr>\n",
       "      <th>38297</th>\n",
       "      <td>Unsweetened Whole Milk Peach Greek Yogurt</td>\n",
       "      <td>Unsweetened Whole Milk Strawberry Yogurt</td>\n",
       "      <td>3.941266</td>\n",
       "    </tr>\n",
       "    <tr>\n",
       "      <th>36409</th>\n",
       "      <td>Unsweetened Whole Milk Peach Greek Yogurt</td>\n",
       "      <td>Unsweetened Whole Milk Mixed Berry Greek Yogurt</td>\n",
       "      <td>3.914005</td>\n",
       "    </tr>\n",
       "    <tr>\n",
       "      <th>31197</th>\n",
       "      <td>Unsweetened Whole Milk Mixed Berry Greek Yogurt</td>\n",
       "      <td>Unsweetened Whole Milk Peach Greek Yogurt</td>\n",
       "      <td>3.841016</td>\n",
       "    </tr>\n",
       "    <tr>\n",
       "      <th>36080</th>\n",
       "      <td>Chipotle Beef &amp; Pork Realstick</td>\n",
       "      <td>Uncured Cracked Pepper Beef</td>\n",
       "      <td>3.768620</td>\n",
       "    </tr>\n",
       "  </tbody>\n",
       "</table>\n",
       "</div>"
      ],
      "text/plain": [
       "                                                  item_A  \\\n",
       "38192              Apple Blueberry Fruit Yogurt Smoothie   \n",
       "23112           0% Greek, Blueberry on the Bottom Yogurt   \n",
       "26347  Nonfat Strawberry With Fruit On The Bottom Gre...   \n",
       "45670                        Uncured Cracked Pepper Beef   \n",
       "43798    Unsweetened Whole Milk Mixed Berry Greek Yogurt   \n",
       "22561      Unsweetened Whole Milk Blueberry Greek Yogurt   \n",
       "38297          Unsweetened Whole Milk Peach Greek Yogurt   \n",
       "36409          Unsweetened Whole Milk Peach Greek Yogurt   \n",
       "31197    Unsweetened Whole Milk Mixed Berry Greek Yogurt   \n",
       "36080                     Chipotle Beef & Pork Realstick   \n",
       "\n",
       "                                                  item_B      lift  \n",
       "38192          Organic Fruit Yogurt Smoothie Mixed Berry  5.218205  \n",
       "23112  Nonfat Strawberry With Fruit On The Bottom Gre...  4.751334  \n",
       "26347           0% Greek, Blueberry on the Bottom Yogurt  4.649155  \n",
       "45670                     Chipotle Beef & Pork Realstick  4.619217  \n",
       "43798      Unsweetened Whole Milk Blueberry Greek Yogurt  4.191511  \n",
       "22561    Unsweetened Whole Milk Mixed Berry Greek Yogurt  3.976010  \n",
       "38297           Unsweetened Whole Milk Strawberry Yogurt  3.941266  \n",
       "36409    Unsweetened Whole Milk Mixed Berry Greek Yogurt  3.914005  \n",
       "31197          Unsweetened Whole Milk Peach Greek Yogurt  3.841016  \n",
       "36080                        Uncured Cracked Pepper Beef  3.768620  "
      ]
     },
     "execution_count": 47,
     "metadata": {},
     "output_type": "execute_result"
    }
   ],
   "source": [
    "rules[['item_A', 'item_B', 'lift']].sort_values('lift', ascending=False).head(10)"
   ]
  }
 ],
 "metadata": {
  "interpreter": {
   "hash": "aee8b7b246df8f9039afb4144a1f6fd8d2ca17a180786b69acc140d282b71a49"
  },
  "kernelspec": {
   "display_name": "Python 3.10.4 64-bit",
   "language": "python",
   "name": "python3"
  },
  "language_info": {
   "codemirror_mode": {
    "name": "ipython",
    "version": 3
   },
   "file_extension": ".py",
   "mimetype": "text/x-python",
   "name": "python",
   "nbconvert_exporter": "python",
   "pygments_lexer": "ipython3",
   "version": "3.10.4"
  },
  "orig_nbformat": 4
 },
 "nbformat": 4,
 "nbformat_minor": 2
}
